{
 "metadata": {
  "language_info": {
   "codemirror_mode": {
    "name": "ipython",
    "version": 3
   },
   "file_extension": ".py",
   "mimetype": "text/x-python",
   "name": "python",
   "nbconvert_exporter": "python",
   "pygments_lexer": "ipython3",
   "version": "3.7.6-final"
  },
  "orig_nbformat": 2,
  "kernelspec": {
   "name": "python_defaultSpec_1599744620923",
   "display_name": "Python 3.7.6 64-bit ('base': conda)"
  }
 },
 "nbformat": 4,
 "nbformat_minor": 2,
 "cells": [
  {
   "cell_type": "markdown",
   "metadata": {},
   "source": [
    "# 第６章 物流の最適ルートをコンサルティングする１０本ノック"
   ]
  },
  {
   "cell_type": "markdown",
   "metadata": {},
   "source": [
    "## ノック５１\n",
    "\n",
    "- 物流に関するデータを読み込む"
   ]
  },
  {
   "cell_type": "code",
   "execution_count": 1,
   "metadata": {},
   "outputs": [],
   "source": [
    "import pandas as pd"
   ]
  },
  {
   "cell_type": "code",
   "execution_count": 14,
   "metadata": {},
   "outputs": [
    {
     "output_type": "execute_result",
     "data": {
      "text/plain": "        FCName  FCDemand FCRegion\nFCID                             \nFC00001   東京工場        28       関東\nFC00002  木更津工場        29       関東\nFC00003   多摩工場        31       関東\nFC00004  横須賀工場        25       関東\nFC00005   仙台工場        21       東北\nFC00006   山形工場        30       東北\nFC00007   那須工場        25       東北\nFC00008   青森工場        16       東北",
      "text/html": "<div>\n<style scoped>\n    .dataframe tbody tr th:only-of-type {\n        vertical-align: middle;\n    }\n\n    .dataframe tbody tr th {\n        vertical-align: top;\n    }\n\n    .dataframe thead th {\n        text-align: right;\n    }\n</style>\n<table border=\"1\" class=\"dataframe\">\n  <thead>\n    <tr style=\"text-align: right;\">\n      <th></th>\n      <th>FCName</th>\n      <th>FCDemand</th>\n      <th>FCRegion</th>\n    </tr>\n    <tr>\n      <th>FCID</th>\n      <th></th>\n      <th></th>\n      <th></th>\n    </tr>\n  </thead>\n  <tbody>\n    <tr>\n      <th>FC00001</th>\n      <td>東京工場</td>\n      <td>28</td>\n      <td>関東</td>\n    </tr>\n    <tr>\n      <th>FC00002</th>\n      <td>木更津工場</td>\n      <td>29</td>\n      <td>関東</td>\n    </tr>\n    <tr>\n      <th>FC00003</th>\n      <td>多摩工場</td>\n      <td>31</td>\n      <td>関東</td>\n    </tr>\n    <tr>\n      <th>FC00004</th>\n      <td>横須賀工場</td>\n      <td>25</td>\n      <td>関東</td>\n    </tr>\n    <tr>\n      <th>FC00005</th>\n      <td>仙台工場</td>\n      <td>21</td>\n      <td>東北</td>\n    </tr>\n    <tr>\n      <th>FC00006</th>\n      <td>山形工場</td>\n      <td>30</td>\n      <td>東北</td>\n    </tr>\n    <tr>\n      <th>FC00007</th>\n      <td>那須工場</td>\n      <td>25</td>\n      <td>東北</td>\n    </tr>\n    <tr>\n      <th>FC00008</th>\n      <td>青森工場</td>\n      <td>16</td>\n      <td>東北</td>\n    </tr>\n  </tbody>\n</table>\n</div>"
     },
     "metadata": {},
     "execution_count": 14
    }
   ],
   "source": [
    "factories = pd.read_csv('../materials/part_06/tbl_factory.csv', index_col=0)\n",
    "factories"
   ]
  },
  {
   "cell_type": "code",
   "execution_count": 15,
   "metadata": {},
   "outputs": [
    {
     "output_type": "execute_result",
     "data": {
      "text/plain": "        WHName  WHSupply WHRegion\nWHID                             \nWH00001   杉並倉庫        35       関東\nWH00002   品川倉庫        41       関東\nWH00003   豊洲倉庫        42       関東\nWH00004   郡山倉庫        60       東北\nWH00005   仙台倉庫        72       東北\nWH00006   山形倉庫        65       東北",
      "text/html": "<div>\n<style scoped>\n    .dataframe tbody tr th:only-of-type {\n        vertical-align: middle;\n    }\n\n    .dataframe tbody tr th {\n        vertical-align: top;\n    }\n\n    .dataframe thead th {\n        text-align: right;\n    }\n</style>\n<table border=\"1\" class=\"dataframe\">\n  <thead>\n    <tr style=\"text-align: right;\">\n      <th></th>\n      <th>WHName</th>\n      <th>WHSupply</th>\n      <th>WHRegion</th>\n    </tr>\n    <tr>\n      <th>WHID</th>\n      <th></th>\n      <th></th>\n      <th></th>\n    </tr>\n  </thead>\n  <tbody>\n    <tr>\n      <th>WH00001</th>\n      <td>杉並倉庫</td>\n      <td>35</td>\n      <td>関東</td>\n    </tr>\n    <tr>\n      <th>WH00002</th>\n      <td>品川倉庫</td>\n      <td>41</td>\n      <td>関東</td>\n    </tr>\n    <tr>\n      <th>WH00003</th>\n      <td>豊洲倉庫</td>\n      <td>42</td>\n      <td>関東</td>\n    </tr>\n    <tr>\n      <th>WH00004</th>\n      <td>郡山倉庫</td>\n      <td>60</td>\n      <td>東北</td>\n    </tr>\n    <tr>\n      <th>WH00005</th>\n      <td>仙台倉庫</td>\n      <td>72</td>\n      <td>東北</td>\n    </tr>\n    <tr>\n      <th>WH00006</th>\n      <td>山形倉庫</td>\n      <td>65</td>\n      <td>東北</td>\n    </tr>\n  </tbody>\n</table>\n</div>"
     },
     "metadata": {},
     "execution_count": 15
    }
   ],
   "source": [
    "warehouses = pd.read_csv('../materials/part_06/tbl_warehouse.csv', index_col=0)\n",
    "warehouses"
   ]
  },
  {
   "cell_type": "code",
   "execution_count": 16,
   "metadata": {},
   "outputs": [
    {
     "output_type": "execute_result",
     "data": {
      "text/plain": "            FCID     WHID  Cost\nRCostID                        \n1        FC00001  WH00001   0.4\n2        FC00001  WH00002   0.8\n3        FC00001  WH00003   1.5\n4        FC00002  WH00001   0.9\n5        FC00002  WH00002   0.8\n6        FC00002  WH00003   1.6\n7        FC00003  WH00001   1.2\n8        FC00003  WH00002   1.3\n9        FC00003  WH00003   1.5\n10       FC00004  WH00001   0.8",
      "text/html": "<div>\n<style scoped>\n    .dataframe tbody tr th:only-of-type {\n        vertical-align: middle;\n    }\n\n    .dataframe tbody tr th {\n        vertical-align: top;\n    }\n\n    .dataframe thead th {\n        text-align: right;\n    }\n</style>\n<table border=\"1\" class=\"dataframe\">\n  <thead>\n    <tr style=\"text-align: right;\">\n      <th></th>\n      <th>FCID</th>\n      <th>WHID</th>\n      <th>Cost</th>\n    </tr>\n    <tr>\n      <th>RCostID</th>\n      <th></th>\n      <th></th>\n      <th></th>\n    </tr>\n  </thead>\n  <tbody>\n    <tr>\n      <th>1</th>\n      <td>FC00001</td>\n      <td>WH00001</td>\n      <td>0.4</td>\n    </tr>\n    <tr>\n      <th>2</th>\n      <td>FC00001</td>\n      <td>WH00002</td>\n      <td>0.8</td>\n    </tr>\n    <tr>\n      <th>3</th>\n      <td>FC00001</td>\n      <td>WH00003</td>\n      <td>1.5</td>\n    </tr>\n    <tr>\n      <th>4</th>\n      <td>FC00002</td>\n      <td>WH00001</td>\n      <td>0.9</td>\n    </tr>\n    <tr>\n      <th>5</th>\n      <td>FC00002</td>\n      <td>WH00002</td>\n      <td>0.8</td>\n    </tr>\n    <tr>\n      <th>6</th>\n      <td>FC00002</td>\n      <td>WH00003</td>\n      <td>1.6</td>\n    </tr>\n    <tr>\n      <th>7</th>\n      <td>FC00003</td>\n      <td>WH00001</td>\n      <td>1.2</td>\n    </tr>\n    <tr>\n      <th>8</th>\n      <td>FC00003</td>\n      <td>WH00002</td>\n      <td>1.3</td>\n    </tr>\n    <tr>\n      <th>9</th>\n      <td>FC00003</td>\n      <td>WH00003</td>\n      <td>1.5</td>\n    </tr>\n    <tr>\n      <th>10</th>\n      <td>FC00004</td>\n      <td>WH00001</td>\n      <td>0.8</td>\n    </tr>\n  </tbody>\n</table>\n</div>"
     },
     "metadata": {},
     "execution_count": 16
    }
   ],
   "source": [
    "cost = pd.read_csv('../materials/part_06/rel_cost.csv', index_col=0)\n",
    "cost.head(10)"
   ]
  },
  {
   "cell_type": "code",
   "execution_count": 17,
   "metadata": {},
   "outputs": [
    {
     "output_type": "execute_result",
     "data": {
      "text/plain": "          TransactionDate     ToFC   FromWH  Quantity\nTRID                                                 \n0     2019-01-01 02:11:10  FC00004  WH00003        33\n1     2019-01-01 06:12:42  FC00007  WH00006        19\n2     2019-01-01 06:32:32  FC00006  WH00004        31\n3     2019-01-01 07:17:06  FC00002  WH00003        18\n4     2019-01-01 07:52:18  FC00001  WH00002        30\n5     2019-01-01 08:56:09  FC00005  WH00005        31\n6     2019-01-01 09:00:15  FC00006  WH00006        33\n7     2019-01-01 09:09:30  FC00001  WH00003        12\n8     2019-01-01 10:52:55  FC00003  WH00003        27\n9     2019-01-01 14:12:51  FC00006  WH00006        21",
      "text/html": "<div>\n<style scoped>\n    .dataframe tbody tr th:only-of-type {\n        vertical-align: middle;\n    }\n\n    .dataframe tbody tr th {\n        vertical-align: top;\n    }\n\n    .dataframe thead th {\n        text-align: right;\n    }\n</style>\n<table border=\"1\" class=\"dataframe\">\n  <thead>\n    <tr style=\"text-align: right;\">\n      <th></th>\n      <th>TransactionDate</th>\n      <th>ToFC</th>\n      <th>FromWH</th>\n      <th>Quantity</th>\n    </tr>\n    <tr>\n      <th>TRID</th>\n      <th></th>\n      <th></th>\n      <th></th>\n      <th></th>\n    </tr>\n  </thead>\n  <tbody>\n    <tr>\n      <th>0</th>\n      <td>2019-01-01 02:11:10</td>\n      <td>FC00004</td>\n      <td>WH00003</td>\n      <td>33</td>\n    </tr>\n    <tr>\n      <th>1</th>\n      <td>2019-01-01 06:12:42</td>\n      <td>FC00007</td>\n      <td>WH00006</td>\n      <td>19</td>\n    </tr>\n    <tr>\n      <th>2</th>\n      <td>2019-01-01 06:32:32</td>\n      <td>FC00006</td>\n      <td>WH00004</td>\n      <td>31</td>\n    </tr>\n    <tr>\n      <th>3</th>\n      <td>2019-01-01 07:17:06</td>\n      <td>FC00002</td>\n      <td>WH00003</td>\n      <td>18</td>\n    </tr>\n    <tr>\n      <th>4</th>\n      <td>2019-01-01 07:52:18</td>\n      <td>FC00001</td>\n      <td>WH00002</td>\n      <td>30</td>\n    </tr>\n    <tr>\n      <th>5</th>\n      <td>2019-01-01 08:56:09</td>\n      <td>FC00005</td>\n      <td>WH00005</td>\n      <td>31</td>\n    </tr>\n    <tr>\n      <th>6</th>\n      <td>2019-01-01 09:00:15</td>\n      <td>FC00006</td>\n      <td>WH00006</td>\n      <td>33</td>\n    </tr>\n    <tr>\n      <th>7</th>\n      <td>2019-01-01 09:09:30</td>\n      <td>FC00001</td>\n      <td>WH00003</td>\n      <td>12</td>\n    </tr>\n    <tr>\n      <th>8</th>\n      <td>2019-01-01 10:52:55</td>\n      <td>FC00003</td>\n      <td>WH00003</td>\n      <td>27</td>\n    </tr>\n    <tr>\n      <th>9</th>\n      <td>2019-01-01 14:12:51</td>\n      <td>FC00006</td>\n      <td>WH00006</td>\n      <td>21</td>\n    </tr>\n  </tbody>\n</table>\n</div>"
     },
     "metadata": {},
     "execution_count": 17
    }
   ],
   "source": [
    "trans = pd.read_csv('../materials/part_06/tbl_transaction.csv', index_col=0)\n",
    "trans.head(10)"
   ]
  },
  {
   "cell_type": "code",
   "execution_count": 18,
   "metadata": {},
   "outputs": [
    {
     "output_type": "execute_result",
     "data": {
      "text/plain": "       TransactionDate     ToFC   FromWH  Quantity     FCID     WHID  Cost\n0  2019-01-01 02:11:10  FC00004  WH00003        33  FC00004  WH00003   1.1\n1  2019-01-01 06:12:42  FC00007  WH00006        19  FC00007  WH00006   1.3\n2  2019-01-01 06:32:32  FC00006  WH00004        31  FC00006  WH00004   0.9\n3  2019-01-01 07:17:06  FC00002  WH00003        18  FC00002  WH00003   1.6\n4  2019-01-01 07:52:18  FC00001  WH00002        30  FC00001  WH00002   0.8\n5  2019-01-01 08:56:09  FC00005  WH00005        31  FC00005  WH00005   0.3\n6  2019-01-01 09:00:15  FC00006  WH00006        33  FC00006  WH00006   0.7\n7  2019-01-01 09:09:30  FC00001  WH00003        12  FC00001  WH00003   1.5\n8  2019-01-01 10:52:55  FC00003  WH00003        27  FC00003  WH00003   1.5\n9  2019-01-01 14:12:51  FC00006  WH00006        21  FC00006  WH00006   0.7",
      "text/html": "<div>\n<style scoped>\n    .dataframe tbody tr th:only-of-type {\n        vertical-align: middle;\n    }\n\n    .dataframe tbody tr th {\n        vertical-align: top;\n    }\n\n    .dataframe thead th {\n        text-align: right;\n    }\n</style>\n<table border=\"1\" class=\"dataframe\">\n  <thead>\n    <tr style=\"text-align: right;\">\n      <th></th>\n      <th>TransactionDate</th>\n      <th>ToFC</th>\n      <th>FromWH</th>\n      <th>Quantity</th>\n      <th>FCID</th>\n      <th>WHID</th>\n      <th>Cost</th>\n    </tr>\n  </thead>\n  <tbody>\n    <tr>\n      <th>0</th>\n      <td>2019-01-01 02:11:10</td>\n      <td>FC00004</td>\n      <td>WH00003</td>\n      <td>33</td>\n      <td>FC00004</td>\n      <td>WH00003</td>\n      <td>1.1</td>\n    </tr>\n    <tr>\n      <th>1</th>\n      <td>2019-01-01 06:12:42</td>\n      <td>FC00007</td>\n      <td>WH00006</td>\n      <td>19</td>\n      <td>FC00007</td>\n      <td>WH00006</td>\n      <td>1.3</td>\n    </tr>\n    <tr>\n      <th>2</th>\n      <td>2019-01-01 06:32:32</td>\n      <td>FC00006</td>\n      <td>WH00004</td>\n      <td>31</td>\n      <td>FC00006</td>\n      <td>WH00004</td>\n      <td>0.9</td>\n    </tr>\n    <tr>\n      <th>3</th>\n      <td>2019-01-01 07:17:06</td>\n      <td>FC00002</td>\n      <td>WH00003</td>\n      <td>18</td>\n      <td>FC00002</td>\n      <td>WH00003</td>\n      <td>1.6</td>\n    </tr>\n    <tr>\n      <th>4</th>\n      <td>2019-01-01 07:52:18</td>\n      <td>FC00001</td>\n      <td>WH00002</td>\n      <td>30</td>\n      <td>FC00001</td>\n      <td>WH00002</td>\n      <td>0.8</td>\n    </tr>\n    <tr>\n      <th>5</th>\n      <td>2019-01-01 08:56:09</td>\n      <td>FC00005</td>\n      <td>WH00005</td>\n      <td>31</td>\n      <td>FC00005</td>\n      <td>WH00005</td>\n      <td>0.3</td>\n    </tr>\n    <tr>\n      <th>6</th>\n      <td>2019-01-01 09:00:15</td>\n      <td>FC00006</td>\n      <td>WH00006</td>\n      <td>33</td>\n      <td>FC00006</td>\n      <td>WH00006</td>\n      <td>0.7</td>\n    </tr>\n    <tr>\n      <th>7</th>\n      <td>2019-01-01 09:09:30</td>\n      <td>FC00001</td>\n      <td>WH00003</td>\n      <td>12</td>\n      <td>FC00001</td>\n      <td>WH00003</td>\n      <td>1.5</td>\n    </tr>\n    <tr>\n      <th>8</th>\n      <td>2019-01-01 10:52:55</td>\n      <td>FC00003</td>\n      <td>WH00003</td>\n      <td>27</td>\n      <td>FC00003</td>\n      <td>WH00003</td>\n      <td>1.5</td>\n    </tr>\n    <tr>\n      <th>9</th>\n      <td>2019-01-01 14:12:51</td>\n      <td>FC00006</td>\n      <td>WH00006</td>\n      <td>21</td>\n      <td>FC00006</td>\n      <td>WH00006</td>\n      <td>0.7</td>\n    </tr>\n  </tbody>\n</table>\n</div>"
     },
     "metadata": {},
     "execution_count": 18
    }
   ],
   "source": [
    "# 輸送実績データに輸送費データを結合\n",
    "join_data = pd.merge(trans, cost, left_on=['ToFC', 'FromWH'], right_on=['FCID', 'WHID'], how='left')\n",
    "join_data.head(10)"
   ]
  },
  {
   "cell_type": "code",
   "execution_count": 19,
   "metadata": {},
   "outputs": [
    {
     "output_type": "execute_result",
     "data": {
      "text/plain": "True"
     },
     "metadata": {},
     "execution_count": 19
    }
   ],
   "source": [
    "len(trans) == len(join_data)"
   ]
  },
  {
   "cell_type": "code",
   "execution_count": 20,
   "metadata": {},
   "outputs": [
    {
     "output_type": "execute_result",
     "data": {
      "text/plain": "       TransactionDate     ToFC   FromWH  Quantity     FCID     WHID  Cost  \\\n0  2019-01-01 02:11:10  FC00004  WH00003        33  FC00004  WH00003   1.1   \n1  2019-01-01 06:12:42  FC00007  WH00006        19  FC00007  WH00006   1.3   \n2  2019-01-01 06:32:32  FC00006  WH00004        31  FC00006  WH00004   0.9   \n3  2019-01-01 07:17:06  FC00002  WH00003        18  FC00002  WH00003   1.6   \n4  2019-01-01 07:52:18  FC00001  WH00002        30  FC00001  WH00002   0.8   \n5  2019-01-01 08:56:09  FC00005  WH00005        31  FC00005  WH00005   0.3   \n6  2019-01-01 09:00:15  FC00006  WH00006        33  FC00006  WH00006   0.7   \n7  2019-01-01 09:09:30  FC00001  WH00003        12  FC00001  WH00003   1.5   \n8  2019-01-01 10:52:55  FC00003  WH00003        27  FC00003  WH00003   1.5   \n9  2019-01-01 14:12:51  FC00006  WH00006        21  FC00006  WH00006   0.7   \n\n  FCName  FCDemand FCRegion  \n0  横須賀工場        25       関東  \n1   那須工場        25       東北  \n2   山形工場        30       東北  \n3  木更津工場        29       関東  \n4   東京工場        28       関東  \n5   仙台工場        21       東北  \n6   山形工場        30       東北  \n7   東京工場        28       関東  \n8   多摩工場        31       関東  \n9   山形工場        30       東北  ",
      "text/html": "<div>\n<style scoped>\n    .dataframe tbody tr th:only-of-type {\n        vertical-align: middle;\n    }\n\n    .dataframe tbody tr th {\n        vertical-align: top;\n    }\n\n    .dataframe thead th {\n        text-align: right;\n    }\n</style>\n<table border=\"1\" class=\"dataframe\">\n  <thead>\n    <tr style=\"text-align: right;\">\n      <th></th>\n      <th>TransactionDate</th>\n      <th>ToFC</th>\n      <th>FromWH</th>\n      <th>Quantity</th>\n      <th>FCID</th>\n      <th>WHID</th>\n      <th>Cost</th>\n      <th>FCName</th>\n      <th>FCDemand</th>\n      <th>FCRegion</th>\n    </tr>\n  </thead>\n  <tbody>\n    <tr>\n      <th>0</th>\n      <td>2019-01-01 02:11:10</td>\n      <td>FC00004</td>\n      <td>WH00003</td>\n      <td>33</td>\n      <td>FC00004</td>\n      <td>WH00003</td>\n      <td>1.1</td>\n      <td>横須賀工場</td>\n      <td>25</td>\n      <td>関東</td>\n    </tr>\n    <tr>\n      <th>1</th>\n      <td>2019-01-01 06:12:42</td>\n      <td>FC00007</td>\n      <td>WH00006</td>\n      <td>19</td>\n      <td>FC00007</td>\n      <td>WH00006</td>\n      <td>1.3</td>\n      <td>那須工場</td>\n      <td>25</td>\n      <td>東北</td>\n    </tr>\n    <tr>\n      <th>2</th>\n      <td>2019-01-01 06:32:32</td>\n      <td>FC00006</td>\n      <td>WH00004</td>\n      <td>31</td>\n      <td>FC00006</td>\n      <td>WH00004</td>\n      <td>0.9</td>\n      <td>山形工場</td>\n      <td>30</td>\n      <td>東北</td>\n    </tr>\n    <tr>\n      <th>3</th>\n      <td>2019-01-01 07:17:06</td>\n      <td>FC00002</td>\n      <td>WH00003</td>\n      <td>18</td>\n      <td>FC00002</td>\n      <td>WH00003</td>\n      <td>1.6</td>\n      <td>木更津工場</td>\n      <td>29</td>\n      <td>関東</td>\n    </tr>\n    <tr>\n      <th>4</th>\n      <td>2019-01-01 07:52:18</td>\n      <td>FC00001</td>\n      <td>WH00002</td>\n      <td>30</td>\n      <td>FC00001</td>\n      <td>WH00002</td>\n      <td>0.8</td>\n      <td>東京工場</td>\n      <td>28</td>\n      <td>関東</td>\n    </tr>\n    <tr>\n      <th>5</th>\n      <td>2019-01-01 08:56:09</td>\n      <td>FC00005</td>\n      <td>WH00005</td>\n      <td>31</td>\n      <td>FC00005</td>\n      <td>WH00005</td>\n      <td>0.3</td>\n      <td>仙台工場</td>\n      <td>21</td>\n      <td>東北</td>\n    </tr>\n    <tr>\n      <th>6</th>\n      <td>2019-01-01 09:00:15</td>\n      <td>FC00006</td>\n      <td>WH00006</td>\n      <td>33</td>\n      <td>FC00006</td>\n      <td>WH00006</td>\n      <td>0.7</td>\n      <td>山形工場</td>\n      <td>30</td>\n      <td>東北</td>\n    </tr>\n    <tr>\n      <th>7</th>\n      <td>2019-01-01 09:09:30</td>\n      <td>FC00001</td>\n      <td>WH00003</td>\n      <td>12</td>\n      <td>FC00001</td>\n      <td>WH00003</td>\n      <td>1.5</td>\n      <td>東京工場</td>\n      <td>28</td>\n      <td>関東</td>\n    </tr>\n    <tr>\n      <th>8</th>\n      <td>2019-01-01 10:52:55</td>\n      <td>FC00003</td>\n      <td>WH00003</td>\n      <td>27</td>\n      <td>FC00003</td>\n      <td>WH00003</td>\n      <td>1.5</td>\n      <td>多摩工場</td>\n      <td>31</td>\n      <td>関東</td>\n    </tr>\n    <tr>\n      <th>9</th>\n      <td>2019-01-01 14:12:51</td>\n      <td>FC00006</td>\n      <td>WH00006</td>\n      <td>21</td>\n      <td>FC00006</td>\n      <td>WH00006</td>\n      <td>0.7</td>\n      <td>山形工場</td>\n      <td>30</td>\n      <td>東北</td>\n    </tr>\n  </tbody>\n</table>\n</div>"
     },
     "metadata": {},
     "execution_count": 20
    }
   ],
   "source": [
    "# 工場データを結合\n",
    "join_data = pd.merge(join_data, factories, left_on='ToFC', right_on='FCID', how='left')\n",
    "join_data.head(10)"
   ]
  },
  {
   "cell_type": "code",
   "execution_count": 21,
   "metadata": {},
   "outputs": [
    {
     "output_type": "execute_result",
     "data": {
      "text/plain": "       TransactionDate  Quantity  Cost     ToFC FCName  FCDemand   FromWH  \\\n0  2019-01-01 02:11:10        33   1.1  FC00004  横須賀工場        25  WH00003   \n1  2019-01-01 06:12:42        19   1.3  FC00007   那須工場        25  WH00006   \n2  2019-01-01 06:32:32        31   0.9  FC00006   山形工場        30  WH00004   \n3  2019-01-01 07:17:06        18   1.6  FC00002  木更津工場        29  WH00003   \n4  2019-01-01 07:52:18        30   0.8  FC00001   東京工場        28  WH00002   \n5  2019-01-01 08:56:09        31   0.3  FC00005   仙台工場        21  WH00005   \n6  2019-01-01 09:00:15        33   0.7  FC00006   山形工場        30  WH00006   \n7  2019-01-01 09:09:30        12   1.5  FC00001   東京工場        28  WH00003   \n8  2019-01-01 10:52:55        27   1.5  FC00003   多摩工場        31  WH00003   \n9  2019-01-01 14:12:51        21   0.7  FC00006   山形工場        30  WH00006   \n\n  WHName  WHSupply WHRegion  \n0   豊洲倉庫        42       関東  \n1   山形倉庫        65       東北  \n2   郡山倉庫        60       東北  \n3   豊洲倉庫        42       関東  \n4   品川倉庫        41       関東  \n5   仙台倉庫        72       東北  \n6   山形倉庫        65       東北  \n7   豊洲倉庫        42       関東  \n8   豊洲倉庫        42       関東  \n9   山形倉庫        65       東北  ",
      "text/html": "<div>\n<style scoped>\n    .dataframe tbody tr th:only-of-type {\n        vertical-align: middle;\n    }\n\n    .dataframe tbody tr th {\n        vertical-align: top;\n    }\n\n    .dataframe thead th {\n        text-align: right;\n    }\n</style>\n<table border=\"1\" class=\"dataframe\">\n  <thead>\n    <tr style=\"text-align: right;\">\n      <th></th>\n      <th>TransactionDate</th>\n      <th>Quantity</th>\n      <th>Cost</th>\n      <th>ToFC</th>\n      <th>FCName</th>\n      <th>FCDemand</th>\n      <th>FromWH</th>\n      <th>WHName</th>\n      <th>WHSupply</th>\n      <th>WHRegion</th>\n    </tr>\n  </thead>\n  <tbody>\n    <tr>\n      <th>0</th>\n      <td>2019-01-01 02:11:10</td>\n      <td>33</td>\n      <td>1.1</td>\n      <td>FC00004</td>\n      <td>横須賀工場</td>\n      <td>25</td>\n      <td>WH00003</td>\n      <td>豊洲倉庫</td>\n      <td>42</td>\n      <td>関東</td>\n    </tr>\n    <tr>\n      <th>1</th>\n      <td>2019-01-01 06:12:42</td>\n      <td>19</td>\n      <td>1.3</td>\n      <td>FC00007</td>\n      <td>那須工場</td>\n      <td>25</td>\n      <td>WH00006</td>\n      <td>山形倉庫</td>\n      <td>65</td>\n      <td>東北</td>\n    </tr>\n    <tr>\n      <th>2</th>\n      <td>2019-01-01 06:32:32</td>\n      <td>31</td>\n      <td>0.9</td>\n      <td>FC00006</td>\n      <td>山形工場</td>\n      <td>30</td>\n      <td>WH00004</td>\n      <td>郡山倉庫</td>\n      <td>60</td>\n      <td>東北</td>\n    </tr>\n    <tr>\n      <th>3</th>\n      <td>2019-01-01 07:17:06</td>\n      <td>18</td>\n      <td>1.6</td>\n      <td>FC00002</td>\n      <td>木更津工場</td>\n      <td>29</td>\n      <td>WH00003</td>\n      <td>豊洲倉庫</td>\n      <td>42</td>\n      <td>関東</td>\n    </tr>\n    <tr>\n      <th>4</th>\n      <td>2019-01-01 07:52:18</td>\n      <td>30</td>\n      <td>0.8</td>\n      <td>FC00001</td>\n      <td>東京工場</td>\n      <td>28</td>\n      <td>WH00002</td>\n      <td>品川倉庫</td>\n      <td>41</td>\n      <td>関東</td>\n    </tr>\n    <tr>\n      <th>5</th>\n      <td>2019-01-01 08:56:09</td>\n      <td>31</td>\n      <td>0.3</td>\n      <td>FC00005</td>\n      <td>仙台工場</td>\n      <td>21</td>\n      <td>WH00005</td>\n      <td>仙台倉庫</td>\n      <td>72</td>\n      <td>東北</td>\n    </tr>\n    <tr>\n      <th>6</th>\n      <td>2019-01-01 09:00:15</td>\n      <td>33</td>\n      <td>0.7</td>\n      <td>FC00006</td>\n      <td>山形工場</td>\n      <td>30</td>\n      <td>WH00006</td>\n      <td>山形倉庫</td>\n      <td>65</td>\n      <td>東北</td>\n    </tr>\n    <tr>\n      <th>7</th>\n      <td>2019-01-01 09:09:30</td>\n      <td>12</td>\n      <td>1.5</td>\n      <td>FC00001</td>\n      <td>東京工場</td>\n      <td>28</td>\n      <td>WH00003</td>\n      <td>豊洲倉庫</td>\n      <td>42</td>\n      <td>関東</td>\n    </tr>\n    <tr>\n      <th>8</th>\n      <td>2019-01-01 10:52:55</td>\n      <td>27</td>\n      <td>1.5</td>\n      <td>FC00003</td>\n      <td>多摩工場</td>\n      <td>31</td>\n      <td>WH00003</td>\n      <td>豊洲倉庫</td>\n      <td>42</td>\n      <td>関東</td>\n    </tr>\n    <tr>\n      <th>9</th>\n      <td>2019-01-01 14:12:51</td>\n      <td>21</td>\n      <td>0.7</td>\n      <td>FC00006</td>\n      <td>山形工場</td>\n      <td>30</td>\n      <td>WH00006</td>\n      <td>山形倉庫</td>\n      <td>65</td>\n      <td>東北</td>\n    </tr>\n  </tbody>\n</table>\n</div>"
     },
     "metadata": {},
     "execution_count": 21
    }
   ],
   "source": [
    "# 倉庫データを結合\n",
    "join_data = pd.merge(join_data, warehouses, left_on='FromWH', right_on='WHID', how='left')\n",
    "join_data = join_data[['TransactionDate', 'Quantity', 'Cost', 'ToFC', 'FCName', 'FCDemand', 'FromWH', 'WHName', 'WHSupply', 'WHRegion']]\n",
    "join_data.head(10)"
   ]
  },
  {
   "cell_type": "code",
   "execution_count": 22,
   "metadata": {},
   "outputs": [
    {
     "output_type": "execute_result",
     "data": {
      "text/plain": "        TransactionDate  Quantity  Cost     ToFC FCName  FCDemand   FromWH  \\\n0   2019-01-01 02:11:10        33   1.1  FC00004  横須賀工場        25  WH00003   \n3   2019-01-01 07:17:06        18   1.6  FC00002  木更津工場        29  WH00003   \n4   2019-01-01 07:52:18        30   0.8  FC00001   東京工場        28  WH00002   \n7   2019-01-01 09:09:30        12   1.5  FC00001   東京工場        28  WH00003   \n8   2019-01-01 10:52:55        27   1.5  FC00003   多摩工場        31  WH00003   \n11  2019-01-01 19:16:11        21   1.3  FC00003   多摩工場        31  WH00002   \n14  2019-01-02 07:44:00        35   0.8  FC00004  横須賀工場        25  WH00001   \n16  2019-01-02 11:04:17        38   0.4  FC00001   東京工場        28  WH00001   \n18  2019-01-02 14:59:24        13   1.3  FC00003   多摩工場        31  WH00002   \n19  2019-01-02 19:05:57        29   0.8  FC00001   東京工場        28  WH00002   \n\n   WHName  WHSupply WHRegion  \n0    豊洲倉庫        42       関東  \n3    豊洲倉庫        42       関東  \n4    品川倉庫        41       関東  \n7    豊洲倉庫        42       関東  \n8    豊洲倉庫        42       関東  \n11   品川倉庫        41       関東  \n14   杉並倉庫        35       関東  \n16   杉並倉庫        35       関東  \n18   品川倉庫        41       関東  \n19   品川倉庫        41       関東  ",
      "text/html": "<div>\n<style scoped>\n    .dataframe tbody tr th:only-of-type {\n        vertical-align: middle;\n    }\n\n    .dataframe tbody tr th {\n        vertical-align: top;\n    }\n\n    .dataframe thead th {\n        text-align: right;\n    }\n</style>\n<table border=\"1\" class=\"dataframe\">\n  <thead>\n    <tr style=\"text-align: right;\">\n      <th></th>\n      <th>TransactionDate</th>\n      <th>Quantity</th>\n      <th>Cost</th>\n      <th>ToFC</th>\n      <th>FCName</th>\n      <th>FCDemand</th>\n      <th>FromWH</th>\n      <th>WHName</th>\n      <th>WHSupply</th>\n      <th>WHRegion</th>\n    </tr>\n  </thead>\n  <tbody>\n    <tr>\n      <th>0</th>\n      <td>2019-01-01 02:11:10</td>\n      <td>33</td>\n      <td>1.1</td>\n      <td>FC00004</td>\n      <td>横須賀工場</td>\n      <td>25</td>\n      <td>WH00003</td>\n      <td>豊洲倉庫</td>\n      <td>42</td>\n      <td>関東</td>\n    </tr>\n    <tr>\n      <th>3</th>\n      <td>2019-01-01 07:17:06</td>\n      <td>18</td>\n      <td>1.6</td>\n      <td>FC00002</td>\n      <td>木更津工場</td>\n      <td>29</td>\n      <td>WH00003</td>\n      <td>豊洲倉庫</td>\n      <td>42</td>\n      <td>関東</td>\n    </tr>\n    <tr>\n      <th>4</th>\n      <td>2019-01-01 07:52:18</td>\n      <td>30</td>\n      <td>0.8</td>\n      <td>FC00001</td>\n      <td>東京工場</td>\n      <td>28</td>\n      <td>WH00002</td>\n      <td>品川倉庫</td>\n      <td>41</td>\n      <td>関東</td>\n    </tr>\n    <tr>\n      <th>7</th>\n      <td>2019-01-01 09:09:30</td>\n      <td>12</td>\n      <td>1.5</td>\n      <td>FC00001</td>\n      <td>東京工場</td>\n      <td>28</td>\n      <td>WH00003</td>\n      <td>豊洲倉庫</td>\n      <td>42</td>\n      <td>関東</td>\n    </tr>\n    <tr>\n      <th>8</th>\n      <td>2019-01-01 10:52:55</td>\n      <td>27</td>\n      <td>1.5</td>\n      <td>FC00003</td>\n      <td>多摩工場</td>\n      <td>31</td>\n      <td>WH00003</td>\n      <td>豊洲倉庫</td>\n      <td>42</td>\n      <td>関東</td>\n    </tr>\n    <tr>\n      <th>11</th>\n      <td>2019-01-01 19:16:11</td>\n      <td>21</td>\n      <td>1.3</td>\n      <td>FC00003</td>\n      <td>多摩工場</td>\n      <td>31</td>\n      <td>WH00002</td>\n      <td>品川倉庫</td>\n      <td>41</td>\n      <td>関東</td>\n    </tr>\n    <tr>\n      <th>14</th>\n      <td>2019-01-02 07:44:00</td>\n      <td>35</td>\n      <td>0.8</td>\n      <td>FC00004</td>\n      <td>横須賀工場</td>\n      <td>25</td>\n      <td>WH00001</td>\n      <td>杉並倉庫</td>\n      <td>35</td>\n      <td>関東</td>\n    </tr>\n    <tr>\n      <th>16</th>\n      <td>2019-01-02 11:04:17</td>\n      <td>38</td>\n      <td>0.4</td>\n      <td>FC00001</td>\n      <td>東京工場</td>\n      <td>28</td>\n      <td>WH00001</td>\n      <td>杉並倉庫</td>\n      <td>35</td>\n      <td>関東</td>\n    </tr>\n    <tr>\n      <th>18</th>\n      <td>2019-01-02 14:59:24</td>\n      <td>13</td>\n      <td>1.3</td>\n      <td>FC00003</td>\n      <td>多摩工場</td>\n      <td>31</td>\n      <td>WH00002</td>\n      <td>品川倉庫</td>\n      <td>41</td>\n      <td>関東</td>\n    </tr>\n    <tr>\n      <th>19</th>\n      <td>2019-01-02 19:05:57</td>\n      <td>29</td>\n      <td>0.8</td>\n      <td>FC00001</td>\n      <td>東京工場</td>\n      <td>28</td>\n      <td>WH00002</td>\n      <td>品川倉庫</td>\n      <td>41</td>\n      <td>関東</td>\n    </tr>\n  </tbody>\n</table>\n</div>"
     },
     "metadata": {},
     "execution_count": 22
    }
   ],
   "source": [
    "kanto = join_data.loc[join_data['WHRegion'] == '関東']\n",
    "kanto.head(10)"
   ]
  },
  {
   "cell_type": "code",
   "execution_count": 23,
   "metadata": {},
   "outputs": [
    {
     "output_type": "execute_result",
     "data": {
      "text/plain": "        TransactionDate  Quantity  Cost     ToFC FCName  FCDemand   FromWH  \\\n1   2019-01-01 06:12:42        19   1.3  FC00007   那須工場        25  WH00006   \n2   2019-01-01 06:32:32        31   0.9  FC00006   山形工場        30  WH00004   \n5   2019-01-01 08:56:09        31   0.3  FC00005   仙台工場        21  WH00005   \n6   2019-01-01 09:00:15        33   0.7  FC00006   山形工場        30  WH00006   \n9   2019-01-01 14:12:51        21   0.7  FC00006   山形工場        30  WH00006   \n10  2019-01-01 17:14:43        36   0.7  FC00006   山形工場        30  WH00006   \n12  2019-01-01 20:16:02        37   1.1  FC00006   山形工場        30  WH00005   \n13  2019-01-02 05:27:02        42   0.8  FC00005   仙台工場        21  WH00004   \n15  2019-01-02 08:21:07        33   0.3  FC00005   仙台工場        21  WH00005   \n17  2019-01-02 11:30:12        26   1.4  FC00005   仙台工場        21  WH00006   \n\n   WHName  WHSupply WHRegion  \n1    山形倉庫        65       東北  \n2    郡山倉庫        60       東北  \n5    仙台倉庫        72       東北  \n6    山形倉庫        65       東北  \n9    山形倉庫        65       東北  \n10   山形倉庫        65       東北  \n12   仙台倉庫        72       東北  \n13   郡山倉庫        60       東北  \n15   仙台倉庫        72       東北  \n17   山形倉庫        65       東北  ",
      "text/html": "<div>\n<style scoped>\n    .dataframe tbody tr th:only-of-type {\n        vertical-align: middle;\n    }\n\n    .dataframe tbody tr th {\n        vertical-align: top;\n    }\n\n    .dataframe thead th {\n        text-align: right;\n    }\n</style>\n<table border=\"1\" class=\"dataframe\">\n  <thead>\n    <tr style=\"text-align: right;\">\n      <th></th>\n      <th>TransactionDate</th>\n      <th>Quantity</th>\n      <th>Cost</th>\n      <th>ToFC</th>\n      <th>FCName</th>\n      <th>FCDemand</th>\n      <th>FromWH</th>\n      <th>WHName</th>\n      <th>WHSupply</th>\n      <th>WHRegion</th>\n    </tr>\n  </thead>\n  <tbody>\n    <tr>\n      <th>1</th>\n      <td>2019-01-01 06:12:42</td>\n      <td>19</td>\n      <td>1.3</td>\n      <td>FC00007</td>\n      <td>那須工場</td>\n      <td>25</td>\n      <td>WH00006</td>\n      <td>山形倉庫</td>\n      <td>65</td>\n      <td>東北</td>\n    </tr>\n    <tr>\n      <th>2</th>\n      <td>2019-01-01 06:32:32</td>\n      <td>31</td>\n      <td>0.9</td>\n      <td>FC00006</td>\n      <td>山形工場</td>\n      <td>30</td>\n      <td>WH00004</td>\n      <td>郡山倉庫</td>\n      <td>60</td>\n      <td>東北</td>\n    </tr>\n    <tr>\n      <th>5</th>\n      <td>2019-01-01 08:56:09</td>\n      <td>31</td>\n      <td>0.3</td>\n      <td>FC00005</td>\n      <td>仙台工場</td>\n      <td>21</td>\n      <td>WH00005</td>\n      <td>仙台倉庫</td>\n      <td>72</td>\n      <td>東北</td>\n    </tr>\n    <tr>\n      <th>6</th>\n      <td>2019-01-01 09:00:15</td>\n      <td>33</td>\n      <td>0.7</td>\n      <td>FC00006</td>\n      <td>山形工場</td>\n      <td>30</td>\n      <td>WH00006</td>\n      <td>山形倉庫</td>\n      <td>65</td>\n      <td>東北</td>\n    </tr>\n    <tr>\n      <th>9</th>\n      <td>2019-01-01 14:12:51</td>\n      <td>21</td>\n      <td>0.7</td>\n      <td>FC00006</td>\n      <td>山形工場</td>\n      <td>30</td>\n      <td>WH00006</td>\n      <td>山形倉庫</td>\n      <td>65</td>\n      <td>東北</td>\n    </tr>\n    <tr>\n      <th>10</th>\n      <td>2019-01-01 17:14:43</td>\n      <td>36</td>\n      <td>0.7</td>\n      <td>FC00006</td>\n      <td>山形工場</td>\n      <td>30</td>\n      <td>WH00006</td>\n      <td>山形倉庫</td>\n      <td>65</td>\n      <td>東北</td>\n    </tr>\n    <tr>\n      <th>12</th>\n      <td>2019-01-01 20:16:02</td>\n      <td>37</td>\n      <td>1.1</td>\n      <td>FC00006</td>\n      <td>山形工場</td>\n      <td>30</td>\n      <td>WH00005</td>\n      <td>仙台倉庫</td>\n      <td>72</td>\n      <td>東北</td>\n    </tr>\n    <tr>\n      <th>13</th>\n      <td>2019-01-02 05:27:02</td>\n      <td>42</td>\n      <td>0.8</td>\n      <td>FC00005</td>\n      <td>仙台工場</td>\n      <td>21</td>\n      <td>WH00004</td>\n      <td>郡山倉庫</td>\n      <td>60</td>\n      <td>東北</td>\n    </tr>\n    <tr>\n      <th>15</th>\n      <td>2019-01-02 08:21:07</td>\n      <td>33</td>\n      <td>0.3</td>\n      <td>FC00005</td>\n      <td>仙台工場</td>\n      <td>21</td>\n      <td>WH00005</td>\n      <td>仙台倉庫</td>\n      <td>72</td>\n      <td>東北</td>\n    </tr>\n    <tr>\n      <th>17</th>\n      <td>2019-01-02 11:30:12</td>\n      <td>26</td>\n      <td>1.4</td>\n      <td>FC00005</td>\n      <td>仙台工場</td>\n      <td>21</td>\n      <td>WH00006</td>\n      <td>山形倉庫</td>\n      <td>65</td>\n      <td>東北</td>\n    </tr>\n  </tbody>\n</table>\n</div>"
     },
     "metadata": {},
     "execution_count": 23
    }
   ],
   "source": [
    "tohoku = join_data.loc[join_data['WHRegion'] == '東北']\n",
    "tohoku.head(10)"
   ]
  },
  {
   "cell_type": "code",
   "execution_count": null,
   "metadata": {},
   "outputs": [],
   "source": []
  }
 ]
}