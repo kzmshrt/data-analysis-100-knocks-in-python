{
 "metadata": {
  "language_info": {
   "codemirror_mode": {
    "name": "ipython",
    "version": 3
   },
   "file_extension": ".py",
   "mimetype": "text/x-python",
   "name": "python",
   "nbconvert_exporter": "python",
   "pygments_lexer": "ipython3",
   "version": "3.7.6-final"
  },
  "orig_nbformat": 2,
  "kernelspec": {
   "name": "python_defaultSpec_1599642532878",
   "display_name": "Python 3.7.6 64-bit ('base': conda)"
  }
 },
 "nbformat": 4,
 "nbformat_minor": 2,
 "cells": [
  {
   "cell_type": "markdown",
   "metadata": {},
   "source": [
    "# 第５章 顧客の退会を予測する１０本ノック\n",
    "\n",
    "- 決定木を使って顧客が退会するかどうか（分類）を予測する\n",
    "- 決定木は、わかりやすく原因を分析できるので、ビジネスの現場では頻繁に利用される、らしい。"
   ]
  },
  {
   "cell_type": "markdown",
   "metadata": {},
   "source": [
    "## ノック４１\n",
    "\n",
    "- データを読み込む\n",
    "- データを整形する"
   ]
  },
  {
   "cell_type": "code",
   "execution_count": 12,
   "metadata": {},
   "outputs": [],
   "source": [
    "import pandas as pd"
   ]
  },
  {
   "cell_type": "code",
   "execution_count": 13,
   "metadata": {},
   "outputs": [],
   "source": [
    "customer      = pd.read_csv('../materials/part_05/customer_join.csv')\n",
    "uselog_months = pd.read_csv('../materials/part_05/use_log_months.csv')"
   ]
  },
  {
   "cell_type": "code",
   "execution_count": 14,
   "metadata": {},
   "outputs": [
    {
     "output_type": "execute_result",
     "data": {
      "text/plain": "       年月 customer_id  count_0  count_1\n0  201805    AS002855        5      4.0\n1  201805    AS009373        4      3.0\n2  201805    AS015233        7      NaN\n3  201805    AS015315        3      6.0\n4  201805    AS015739        5      7.0",
      "text/html": "<div>\n<style scoped>\n    .dataframe tbody tr th:only-of-type {\n        vertical-align: middle;\n    }\n\n    .dataframe tbody tr th {\n        vertical-align: top;\n    }\n\n    .dataframe thead th {\n        text-align: right;\n    }\n</style>\n<table border=\"1\" class=\"dataframe\">\n  <thead>\n    <tr style=\"text-align: right;\">\n      <th></th>\n      <th>年月</th>\n      <th>customer_id</th>\n      <th>count_0</th>\n      <th>count_1</th>\n    </tr>\n  </thead>\n  <tbody>\n    <tr>\n      <th>0</th>\n      <td>201805</td>\n      <td>AS002855</td>\n      <td>5</td>\n      <td>4.0</td>\n    </tr>\n    <tr>\n      <th>1</th>\n      <td>201805</td>\n      <td>AS009373</td>\n      <td>4</td>\n      <td>3.0</td>\n    </tr>\n    <tr>\n      <th>2</th>\n      <td>201805</td>\n      <td>AS015233</td>\n      <td>7</td>\n      <td>NaN</td>\n    </tr>\n    <tr>\n      <th>3</th>\n      <td>201805</td>\n      <td>AS015315</td>\n      <td>3</td>\n      <td>6.0</td>\n    </tr>\n    <tr>\n      <th>4</th>\n      <td>201805</td>\n      <td>AS015739</td>\n      <td>5</td>\n      <td>7.0</td>\n    </tr>\n  </tbody>\n</table>\n</div>"
     },
     "metadata": {},
     "execution_count": 14
    }
   ],
   "source": [
    "year_months = list(uselog_months['年月'].unique())\n",
    "uselog = pd.DataFrame()\n",
    "for i in range(1, len(year_months)):\n",
    "    tmp = uselog_months.loc[uselog_months['年月'] == year_months[i]]\n",
    "    tmp.rename(columns={'count': 'count_0'}, inplace=True)\n",
    "    tmp_before = uselog_months.loc[uselog_months['年月'] == year_months[i-1]]\n",
    "    del tmp_before['年月']\n",
    "    tmp_before.rename(columns={'count': 'count_1'}, inplace=True)\n",
    "    tmp = pd.merge(tmp, tmp_before, on='customer_id', how='left')\n",
    "    uselog = pd.concat([uselog, tmp], ignore_index=True)\n",
    "\n",
    "uselog.head()"
   ]
  },
  {
   "cell_type": "markdown",
   "metadata": {},
   "source": [
    "## ノック４２\n",
    "\n",
    "- 退会前月の退会顧客データを作成する"
   ]
  },
  {
   "cell_type": "code",
   "execution_count": 15,
   "metadata": {},
   "outputs": [],
   "source": [
    "from dateutil.relativedelta import relativedelta"
   ]
  },
  {
   "cell_type": "code",
   "execution_count": 17,
   "metadata": {
    "tags": []
   },
   "outputs": [
    {
     "output_type": "stream",
     "name": "stdout",
     "text": "33851\n"
    },
    {
     "output_type": "execute_result",
     "data": {
      "text/plain": "       年月 customer_id  count_0  count_1 name class gender start_date end_date  \\\n0  201805    AS002855        5      4.0  NaN   NaN    NaN        NaN      NaT   \n1  201805    AS009373        4      3.0  NaN   NaN    NaN        NaN      NaT   \n2  201805    AS015233        7      NaN  NaN   NaN    NaN        NaN      NaT   \n3  201805    AS015315        3      6.0  NaN   NaN    NaN        NaN      NaT   \n4  201805    AS015739        5      7.0  NaN   NaN    NaN        NaN      NaT   \n\n  campaign_id  ...  price campaign_name  mean median  max  min  routine_flg  \\\n0         NaN  ...    NaN           NaN   NaN    NaN  NaN  NaN          NaN   \n1         NaN  ...    NaN           NaN   NaN    NaN  NaN  NaN          NaN   \n2         NaN  ...    NaN           NaN   NaN    NaN  NaN  NaN          NaN   \n3         NaN  ...    NaN           NaN   NaN    NaN  NaN  NaN          NaN   \n4         NaN  ...    NaN           NaN   NaN    NaN  NaN  NaN          NaN   \n\n   calc_date  membership_period exit_date  \n0        NaN                NaN       NaN  \n1        NaN                NaN       NaN  \n2        NaN                NaN       NaN  \n3        NaN                NaN       NaN  \n4        NaN                NaN       NaN  \n\n[5 rows x 22 columns]",
      "text/html": "<div>\n<style scoped>\n    .dataframe tbody tr th:only-of-type {\n        vertical-align: middle;\n    }\n\n    .dataframe tbody tr th {\n        vertical-align: top;\n    }\n\n    .dataframe thead th {\n        text-align: right;\n    }\n</style>\n<table border=\"1\" class=\"dataframe\">\n  <thead>\n    <tr style=\"text-align: right;\">\n      <th></th>\n      <th>年月</th>\n      <th>customer_id</th>\n      <th>count_0</th>\n      <th>count_1</th>\n      <th>name</th>\n      <th>class</th>\n      <th>gender</th>\n      <th>start_date</th>\n      <th>end_date</th>\n      <th>campaign_id</th>\n      <th>...</th>\n      <th>price</th>\n      <th>campaign_name</th>\n      <th>mean</th>\n      <th>median</th>\n      <th>max</th>\n      <th>min</th>\n      <th>routine_flg</th>\n      <th>calc_date</th>\n      <th>membership_period</th>\n      <th>exit_date</th>\n    </tr>\n  </thead>\n  <tbody>\n    <tr>\n      <th>0</th>\n      <td>201805</td>\n      <td>AS002855</td>\n      <td>5</td>\n      <td>4.0</td>\n      <td>NaN</td>\n      <td>NaN</td>\n      <td>NaN</td>\n      <td>NaN</td>\n      <td>NaT</td>\n      <td>NaN</td>\n      <td>...</td>\n      <td>NaN</td>\n      <td>NaN</td>\n      <td>NaN</td>\n      <td>NaN</td>\n      <td>NaN</td>\n      <td>NaN</td>\n      <td>NaN</td>\n      <td>NaN</td>\n      <td>NaN</td>\n      <td>NaN</td>\n    </tr>\n    <tr>\n      <th>1</th>\n      <td>201805</td>\n      <td>AS009373</td>\n      <td>4</td>\n      <td>3.0</td>\n      <td>NaN</td>\n      <td>NaN</td>\n      <td>NaN</td>\n      <td>NaN</td>\n      <td>NaT</td>\n      <td>NaN</td>\n      <td>...</td>\n      <td>NaN</td>\n      <td>NaN</td>\n      <td>NaN</td>\n      <td>NaN</td>\n      <td>NaN</td>\n      <td>NaN</td>\n      <td>NaN</td>\n      <td>NaN</td>\n      <td>NaN</td>\n      <td>NaN</td>\n    </tr>\n    <tr>\n      <th>2</th>\n      <td>201805</td>\n      <td>AS015233</td>\n      <td>7</td>\n      <td>NaN</td>\n      <td>NaN</td>\n      <td>NaN</td>\n      <td>NaN</td>\n      <td>NaN</td>\n      <td>NaT</td>\n      <td>NaN</td>\n      <td>...</td>\n      <td>NaN</td>\n      <td>NaN</td>\n      <td>NaN</td>\n      <td>NaN</td>\n      <td>NaN</td>\n      <td>NaN</td>\n      <td>NaN</td>\n      <td>NaN</td>\n      <td>NaN</td>\n      <td>NaN</td>\n    </tr>\n    <tr>\n      <th>3</th>\n      <td>201805</td>\n      <td>AS015315</td>\n      <td>3</td>\n      <td>6.0</td>\n      <td>NaN</td>\n      <td>NaN</td>\n      <td>NaN</td>\n      <td>NaN</td>\n      <td>NaT</td>\n      <td>NaN</td>\n      <td>...</td>\n      <td>NaN</td>\n      <td>NaN</td>\n      <td>NaN</td>\n      <td>NaN</td>\n      <td>NaN</td>\n      <td>NaN</td>\n      <td>NaN</td>\n      <td>NaN</td>\n      <td>NaN</td>\n      <td>NaN</td>\n    </tr>\n    <tr>\n      <th>4</th>\n      <td>201805</td>\n      <td>AS015739</td>\n      <td>5</td>\n      <td>7.0</td>\n      <td>NaN</td>\n      <td>NaN</td>\n      <td>NaN</td>\n      <td>NaN</td>\n      <td>NaT</td>\n      <td>NaN</td>\n      <td>...</td>\n      <td>NaN</td>\n      <td>NaN</td>\n      <td>NaN</td>\n      <td>NaN</td>\n      <td>NaN</td>\n      <td>NaN</td>\n      <td>NaN</td>\n      <td>NaN</td>\n      <td>NaN</td>\n      <td>NaN</td>\n    </tr>\n  </tbody>\n</table>\n<p>5 rows × 22 columns</p>\n</div>"
     },
     "metadata": {},
     "execution_count": 17
    }
   ],
   "source": [
    "exit_customer = customer.loc[customer['is_deleted'] == 1]\n",
    "exit_customer['exit_date'] = None\n",
    "exit_customer['end_date'] = pd.to_datetime(exit_customer['end_date'])\n",
    "for i in range(len(exit_customer)):\n",
    "    exit_customer['exit_date'].iloc[i] = exit_customer['end_date'].iloc[i] - relativedelta(months=1)\n",
    "\n",
    "exit_customer['年月'] = exit_customer['exit_date'].dt.strftime('%Y%m')\n",
    "uselog['年月'] = uselog['年月'].astype(str)\n",
    "exit_uselog = pd.merge(uselog, exit_customer, on=['customer_id', '年月'], how='left')\n",
    "print(len(uselog))\n",
    "exit_uselog.head()"
   ]
  },
  {
   "cell_type": "code",
   "execution_count": 18,
   "metadata": {
    "tags": []
   },
   "outputs": [
    {
     "output_type": "stream",
     "name": "stdout",
     "text": "1104\n1104\n"
    },
    {
     "output_type": "execute_result",
     "data": {
      "text/plain": "         年月 customer_id  count_0  count_1   name class gender  start_date  \\\n19   201805    AS055680        3      3.0  XXXXX   C01      M  2018-03-01   \n57   201805    AS169823        2      3.0     XX   C01      M  2017-11-01   \n110  201805    AS305860        5      3.0   XXXX   C01      M  2017-06-01   \n128  201805    AS363699        5      3.0  XXXXX   C01      M  2018-02-01   \n147  201805    AS417696        1      4.0     XX   C03      F  2017-09-01   \n\n      end_date campaign_id  ...    price campaign_name      mean median  max  \\\n19  2018-06-30         CA1  ...  10500.0            通常  3.000000    3.0  3.0   \n57  2018-06-30         CA1  ...  10500.0            通常  3.000000    3.0  4.0   \n110 2018-06-30         CA1  ...  10500.0            通常  3.333333    3.0  5.0   \n128 2018-06-30         CA1  ...  10500.0            通常  3.333333    3.0  5.0   \n147 2018-06-30         CA1  ...   6000.0            通常  2.000000    1.0  4.0   \n\n     min  routine_flg   calc_date  membership_period            exit_date  \n19   3.0          0.0  2018-06-30                3.0  2018-05-30 00:00:00  \n57   2.0          1.0  2018-06-30                7.0  2018-05-30 00:00:00  \n110  2.0          0.0  2018-06-30               12.0  2018-05-30 00:00:00  \n128  2.0          0.0  2018-06-30                4.0  2018-05-30 00:00:00  \n147  1.0          0.0  2018-06-30                9.0  2018-05-30 00:00:00  \n\n[5 rows x 22 columns]",
      "text/html": "<div>\n<style scoped>\n    .dataframe tbody tr th:only-of-type {\n        vertical-align: middle;\n    }\n\n    .dataframe tbody tr th {\n        vertical-align: top;\n    }\n\n    .dataframe thead th {\n        text-align: right;\n    }\n</style>\n<table border=\"1\" class=\"dataframe\">\n  <thead>\n    <tr style=\"text-align: right;\">\n      <th></th>\n      <th>年月</th>\n      <th>customer_id</th>\n      <th>count_0</th>\n      <th>count_1</th>\n      <th>name</th>\n      <th>class</th>\n      <th>gender</th>\n      <th>start_date</th>\n      <th>end_date</th>\n      <th>campaign_id</th>\n      <th>...</th>\n      <th>price</th>\n      <th>campaign_name</th>\n      <th>mean</th>\n      <th>median</th>\n      <th>max</th>\n      <th>min</th>\n      <th>routine_flg</th>\n      <th>calc_date</th>\n      <th>membership_period</th>\n      <th>exit_date</th>\n    </tr>\n  </thead>\n  <tbody>\n    <tr>\n      <th>19</th>\n      <td>201805</td>\n      <td>AS055680</td>\n      <td>3</td>\n      <td>3.0</td>\n      <td>XXXXX</td>\n      <td>C01</td>\n      <td>M</td>\n      <td>2018-03-01</td>\n      <td>2018-06-30</td>\n      <td>CA1</td>\n      <td>...</td>\n      <td>10500.0</td>\n      <td>通常</td>\n      <td>3.000000</td>\n      <td>3.0</td>\n      <td>3.0</td>\n      <td>3.0</td>\n      <td>0.0</td>\n      <td>2018-06-30</td>\n      <td>3.0</td>\n      <td>2018-05-30 00:00:00</td>\n    </tr>\n    <tr>\n      <th>57</th>\n      <td>201805</td>\n      <td>AS169823</td>\n      <td>2</td>\n      <td>3.0</td>\n      <td>XX</td>\n      <td>C01</td>\n      <td>M</td>\n      <td>2017-11-01</td>\n      <td>2018-06-30</td>\n      <td>CA1</td>\n      <td>...</td>\n      <td>10500.0</td>\n      <td>通常</td>\n      <td>3.000000</td>\n      <td>3.0</td>\n      <td>4.0</td>\n      <td>2.0</td>\n      <td>1.0</td>\n      <td>2018-06-30</td>\n      <td>7.0</td>\n      <td>2018-05-30 00:00:00</td>\n    </tr>\n    <tr>\n      <th>110</th>\n      <td>201805</td>\n      <td>AS305860</td>\n      <td>5</td>\n      <td>3.0</td>\n      <td>XXXX</td>\n      <td>C01</td>\n      <td>M</td>\n      <td>2017-06-01</td>\n      <td>2018-06-30</td>\n      <td>CA1</td>\n      <td>...</td>\n      <td>10500.0</td>\n      <td>通常</td>\n      <td>3.333333</td>\n      <td>3.0</td>\n      <td>5.0</td>\n      <td>2.0</td>\n      <td>0.0</td>\n      <td>2018-06-30</td>\n      <td>12.0</td>\n      <td>2018-05-30 00:00:00</td>\n    </tr>\n    <tr>\n      <th>128</th>\n      <td>201805</td>\n      <td>AS363699</td>\n      <td>5</td>\n      <td>3.0</td>\n      <td>XXXXX</td>\n      <td>C01</td>\n      <td>M</td>\n      <td>2018-02-01</td>\n      <td>2018-06-30</td>\n      <td>CA1</td>\n      <td>...</td>\n      <td>10500.0</td>\n      <td>通常</td>\n      <td>3.333333</td>\n      <td>3.0</td>\n      <td>5.0</td>\n      <td>2.0</td>\n      <td>0.0</td>\n      <td>2018-06-30</td>\n      <td>4.0</td>\n      <td>2018-05-30 00:00:00</td>\n    </tr>\n    <tr>\n      <th>147</th>\n      <td>201805</td>\n      <td>AS417696</td>\n      <td>1</td>\n      <td>4.0</td>\n      <td>XX</td>\n      <td>C03</td>\n      <td>F</td>\n      <td>2017-09-01</td>\n      <td>2018-06-30</td>\n      <td>CA1</td>\n      <td>...</td>\n      <td>6000.0</td>\n      <td>通常</td>\n      <td>2.000000</td>\n      <td>1.0</td>\n      <td>4.0</td>\n      <td>1.0</td>\n      <td>0.0</td>\n      <td>2018-06-30</td>\n      <td>9.0</td>\n      <td>2018-05-30 00:00:00</td>\n    </tr>\n  </tbody>\n</table>\n<p>5 rows × 22 columns</p>\n</div>"
     },
     "metadata": {},
     "execution_count": 18
    }
   ],
   "source": [
    "exit_uselog = exit_uselog.dropna(subset=['name'])\n",
    "\n",
    "print(len(exit_uselog))\n",
    "print(len(exit_uselog['customer_id'].unique()))\n",
    "exit_uselog.head()"
   ]
  },
  {
   "cell_type": "markdown",
   "metadata": {},
   "source": [
    "## ノック４３\n",
    "\n",
    "- 継続顧客のデータを作成する"
   ]
  },
  {
   "cell_type": "code",
   "execution_count": 19,
   "metadata": {
    "tags": []
   },
   "outputs": [
    {
     "output_type": "stream",
     "name": "stdout",
     "text": "33851\n27422\n"
    }
   ],
   "source": [
    "conti_customer = customer.loc[customer['is_deleted'] == 0]\n",
    "conti_uselog = pd.merge(uselog, conti_customer, on=['customer_id'], how='left')\n",
    "print(len(conti_uselog))\n",
    "conti_uselog = conti_uselog.dropna(subset=['name'])\n",
    "print(len(conti_uselog))"
   ]
  },
  {
   "cell_type": "code",
   "execution_count": 20,
   "metadata": {
    "tags": []
   },
   "outputs": [
    {
     "output_type": "stream",
     "name": "stdout",
     "text": "2842\n"
    },
    {
     "output_type": "execute_result",
     "data": {
      "text/plain": "       年月 customer_id  count_0  count_1   name class gender  start_date  \\\n0  201902    HI886359        3      5.0    XXX   C02      F  2016-12-01   \n1  201806    TS037478        8      6.0   XXXX   C02      M  2018-01-01   \n2  201808    HD849426        9      8.0     XX   C03      M  2017-08-01   \n3  201805    TS145533        2      5.0  XXXXX   C03      M  2015-10-01   \n4  201808    TS161670        5      4.0    XXX   C01      F  2015-09-01   \n\n  end_date campaign_id  ...  class_name    price  campaign_name      mean  \\\n0      NaN         CA1  ...       デイタイム   7500.0             通常  4.666667   \n1      NaN         CA1  ...       デイタイム   7500.0             通常  7.333333   \n2      NaN         CA2  ...         ナイト   6000.0          入会費半額  6.416667   \n3      NaN         CA1  ...         ナイト   6000.0             通常  4.166667   \n4      NaN         CA1  ...      オールタイム  10500.0             通常  5.750000   \n\n   median   max  min  routine_flg   calc_date membership_period  \n0     5.0   9.0  2.0          1.0  2019-04-30              28.0  \n1     7.5  12.0  5.0          1.0  2019-04-30              15.0  \n2     6.5   9.0  5.0          1.0  2019-04-30              20.0  \n3     4.0   7.0  2.0          1.0  2019-04-30              42.0  \n4     5.5   9.0  1.0          1.0  2019-04-30              43.0  \n\n[5 rows x 21 columns]",
      "text/html": "<div>\n<style scoped>\n    .dataframe tbody tr th:only-of-type {\n        vertical-align: middle;\n    }\n\n    .dataframe tbody tr th {\n        vertical-align: top;\n    }\n\n    .dataframe thead th {\n        text-align: right;\n    }\n</style>\n<table border=\"1\" class=\"dataframe\">\n  <thead>\n    <tr style=\"text-align: right;\">\n      <th></th>\n      <th>年月</th>\n      <th>customer_id</th>\n      <th>count_0</th>\n      <th>count_1</th>\n      <th>name</th>\n      <th>class</th>\n      <th>gender</th>\n      <th>start_date</th>\n      <th>end_date</th>\n      <th>campaign_id</th>\n      <th>...</th>\n      <th>class_name</th>\n      <th>price</th>\n      <th>campaign_name</th>\n      <th>mean</th>\n      <th>median</th>\n      <th>max</th>\n      <th>min</th>\n      <th>routine_flg</th>\n      <th>calc_date</th>\n      <th>membership_period</th>\n    </tr>\n  </thead>\n  <tbody>\n    <tr>\n      <th>0</th>\n      <td>201902</td>\n      <td>HI886359</td>\n      <td>3</td>\n      <td>5.0</td>\n      <td>XXX</td>\n      <td>C02</td>\n      <td>F</td>\n      <td>2016-12-01</td>\n      <td>NaN</td>\n      <td>CA1</td>\n      <td>...</td>\n      <td>デイタイム</td>\n      <td>7500.0</td>\n      <td>通常</td>\n      <td>4.666667</td>\n      <td>5.0</td>\n      <td>9.0</td>\n      <td>2.0</td>\n      <td>1.0</td>\n      <td>2019-04-30</td>\n      <td>28.0</td>\n    </tr>\n    <tr>\n      <th>1</th>\n      <td>201806</td>\n      <td>TS037478</td>\n      <td>8</td>\n      <td>6.0</td>\n      <td>XXXX</td>\n      <td>C02</td>\n      <td>M</td>\n      <td>2018-01-01</td>\n      <td>NaN</td>\n      <td>CA1</td>\n      <td>...</td>\n      <td>デイタイム</td>\n      <td>7500.0</td>\n      <td>通常</td>\n      <td>7.333333</td>\n      <td>7.5</td>\n      <td>12.0</td>\n      <td>5.0</td>\n      <td>1.0</td>\n      <td>2019-04-30</td>\n      <td>15.0</td>\n    </tr>\n    <tr>\n      <th>2</th>\n      <td>201808</td>\n      <td>HD849426</td>\n      <td>9</td>\n      <td>8.0</td>\n      <td>XX</td>\n      <td>C03</td>\n      <td>M</td>\n      <td>2017-08-01</td>\n      <td>NaN</td>\n      <td>CA2</td>\n      <td>...</td>\n      <td>ナイト</td>\n      <td>6000.0</td>\n      <td>入会費半額</td>\n      <td>6.416667</td>\n      <td>6.5</td>\n      <td>9.0</td>\n      <td>5.0</td>\n      <td>1.0</td>\n      <td>2019-04-30</td>\n      <td>20.0</td>\n    </tr>\n    <tr>\n      <th>3</th>\n      <td>201805</td>\n      <td>TS145533</td>\n      <td>2</td>\n      <td>5.0</td>\n      <td>XXXXX</td>\n      <td>C03</td>\n      <td>M</td>\n      <td>2015-10-01</td>\n      <td>NaN</td>\n      <td>CA1</td>\n      <td>...</td>\n      <td>ナイト</td>\n      <td>6000.0</td>\n      <td>通常</td>\n      <td>4.166667</td>\n      <td>4.0</td>\n      <td>7.0</td>\n      <td>2.0</td>\n      <td>1.0</td>\n      <td>2019-04-30</td>\n      <td>42.0</td>\n    </tr>\n    <tr>\n      <th>4</th>\n      <td>201808</td>\n      <td>TS161670</td>\n      <td>5</td>\n      <td>4.0</td>\n      <td>XXX</td>\n      <td>C01</td>\n      <td>F</td>\n      <td>2015-09-01</td>\n      <td>NaN</td>\n      <td>CA1</td>\n      <td>...</td>\n      <td>オールタイム</td>\n      <td>10500.0</td>\n      <td>通常</td>\n      <td>5.750000</td>\n      <td>5.5</td>\n      <td>9.0</td>\n      <td>1.0</td>\n      <td>1.0</td>\n      <td>2019-04-30</td>\n      <td>43.0</td>\n    </tr>\n  </tbody>\n</table>\n<p>5 rows × 21 columns</p>\n</div>"
     },
     "metadata": {},
     "execution_count": 20
    }
   ],
   "source": [
    "conti_uselog = conti_uselog.sample(frac=1).reset_index(drop=True)\n",
    "conti_uselog = conti_uselog.drop_duplicates(subset='customer_id')\n",
    "print(len(conti_uselog))\n",
    "conti_uselog.head()"
   ]
  },
  {
   "cell_type": "code",
   "execution_count": 21,
   "metadata": {
    "tags": []
   },
   "outputs": [
    {
     "output_type": "stream",
     "name": "stdout",
     "text": "3946\n"
    },
    {
     "output_type": "execute_result",
     "data": {
      "text/plain": "       年月 customer_id  count_0  count_1   name class gender  start_date  \\\n0  201902    HI886359        3      5.0    XXX   C02      F  2016-12-01   \n1  201806    TS037478        8      6.0   XXXX   C02      M  2018-01-01   \n2  201808    HD849426        9      8.0     XX   C03      M  2017-08-01   \n3  201805    TS145533        2      5.0  XXXXX   C03      M  2015-10-01   \n4  201808    TS161670        5      4.0    XXX   C01      F  2015-09-01   \n\n  end_date campaign_id  ...    price campaign_name      mean median   max  \\\n0      NaN         CA1  ...   7500.0            通常  4.666667    5.0   9.0   \n1      NaN         CA1  ...   7500.0            通常  7.333333    7.5  12.0   \n2      NaN         CA2  ...   6000.0         入会費半額  6.416667    6.5   9.0   \n3      NaN         CA1  ...   6000.0            通常  4.166667    4.0   7.0   \n4      NaN         CA1  ...  10500.0            通常  5.750000    5.5   9.0   \n\n   min  routine_flg   calc_date  membership_period exit_date  \n0  2.0          1.0  2019-04-30               28.0       NaN  \n1  5.0          1.0  2019-04-30               15.0       NaN  \n2  5.0          1.0  2019-04-30               20.0       NaN  \n3  2.0          1.0  2019-04-30               42.0       NaN  \n4  1.0          1.0  2019-04-30               43.0       NaN  \n\n[5 rows x 22 columns]",
      "text/html": "<div>\n<style scoped>\n    .dataframe tbody tr th:only-of-type {\n        vertical-align: middle;\n    }\n\n    .dataframe tbody tr th {\n        vertical-align: top;\n    }\n\n    .dataframe thead th {\n        text-align: right;\n    }\n</style>\n<table border=\"1\" class=\"dataframe\">\n  <thead>\n    <tr style=\"text-align: right;\">\n      <th></th>\n      <th>年月</th>\n      <th>customer_id</th>\n      <th>count_0</th>\n      <th>count_1</th>\n      <th>name</th>\n      <th>class</th>\n      <th>gender</th>\n      <th>start_date</th>\n      <th>end_date</th>\n      <th>campaign_id</th>\n      <th>...</th>\n      <th>price</th>\n      <th>campaign_name</th>\n      <th>mean</th>\n      <th>median</th>\n      <th>max</th>\n      <th>min</th>\n      <th>routine_flg</th>\n      <th>calc_date</th>\n      <th>membership_period</th>\n      <th>exit_date</th>\n    </tr>\n  </thead>\n  <tbody>\n    <tr>\n      <th>0</th>\n      <td>201902</td>\n      <td>HI886359</td>\n      <td>3</td>\n      <td>5.0</td>\n      <td>XXX</td>\n      <td>C02</td>\n      <td>F</td>\n      <td>2016-12-01</td>\n      <td>NaN</td>\n      <td>CA1</td>\n      <td>...</td>\n      <td>7500.0</td>\n      <td>通常</td>\n      <td>4.666667</td>\n      <td>5.0</td>\n      <td>9.0</td>\n      <td>2.0</td>\n      <td>1.0</td>\n      <td>2019-04-30</td>\n      <td>28.0</td>\n      <td>NaN</td>\n    </tr>\n    <tr>\n      <th>1</th>\n      <td>201806</td>\n      <td>TS037478</td>\n      <td>8</td>\n      <td>6.0</td>\n      <td>XXXX</td>\n      <td>C02</td>\n      <td>M</td>\n      <td>2018-01-01</td>\n      <td>NaN</td>\n      <td>CA1</td>\n      <td>...</td>\n      <td>7500.0</td>\n      <td>通常</td>\n      <td>7.333333</td>\n      <td>7.5</td>\n      <td>12.0</td>\n      <td>5.0</td>\n      <td>1.0</td>\n      <td>2019-04-30</td>\n      <td>15.0</td>\n      <td>NaN</td>\n    </tr>\n    <tr>\n      <th>2</th>\n      <td>201808</td>\n      <td>HD849426</td>\n      <td>9</td>\n      <td>8.0</td>\n      <td>XX</td>\n      <td>C03</td>\n      <td>M</td>\n      <td>2017-08-01</td>\n      <td>NaN</td>\n      <td>CA2</td>\n      <td>...</td>\n      <td>6000.0</td>\n      <td>入会費半額</td>\n      <td>6.416667</td>\n      <td>6.5</td>\n      <td>9.0</td>\n      <td>5.0</td>\n      <td>1.0</td>\n      <td>2019-04-30</td>\n      <td>20.0</td>\n      <td>NaN</td>\n    </tr>\n    <tr>\n      <th>3</th>\n      <td>201805</td>\n      <td>TS145533</td>\n      <td>2</td>\n      <td>5.0</td>\n      <td>XXXXX</td>\n      <td>C03</td>\n      <td>M</td>\n      <td>2015-10-01</td>\n      <td>NaN</td>\n      <td>CA1</td>\n      <td>...</td>\n      <td>6000.0</td>\n      <td>通常</td>\n      <td>4.166667</td>\n      <td>4.0</td>\n      <td>7.0</td>\n      <td>2.0</td>\n      <td>1.0</td>\n      <td>2019-04-30</td>\n      <td>42.0</td>\n      <td>NaN</td>\n    </tr>\n    <tr>\n      <th>4</th>\n      <td>201808</td>\n      <td>TS161670</td>\n      <td>5</td>\n      <td>4.0</td>\n      <td>XXX</td>\n      <td>C01</td>\n      <td>F</td>\n      <td>2015-09-01</td>\n      <td>NaN</td>\n      <td>CA1</td>\n      <td>...</td>\n      <td>10500.0</td>\n      <td>通常</td>\n      <td>5.750000</td>\n      <td>5.5</td>\n      <td>9.0</td>\n      <td>1.0</td>\n      <td>1.0</td>\n      <td>2019-04-30</td>\n      <td>43.0</td>\n      <td>NaN</td>\n    </tr>\n  </tbody>\n</table>\n<p>5 rows × 22 columns</p>\n</div>"
     },
     "metadata": {},
     "execution_count": 21
    }
   ],
   "source": [
    "predict_data = pd.concat([conti_uselog, exit_uselog], ignore_index=True)\n",
    "print(len(predict_data))\n",
    "predict_data.head()"
   ]
  },
  {
   "cell_type": "markdown",
   "metadata": {},
   "source": [
    "## ノック４４\n",
    "\n",
    "- 予測する月の在籍期間を作成する"
   ]
  },
  {
   "cell_type": "code",
   "execution_count": 22,
   "metadata": {},
   "outputs": [
    {
     "output_type": "execute_result",
     "data": {
      "text/plain": "       年月 customer_id  count_0  count_1   name class gender start_date  \\\n0  201902    HI886359        3      5.0    XXX   C02      F 2016-12-01   \n1  201806    TS037478        8      6.0   XXXX   C02      M 2018-01-01   \n2  201808    HD849426        9      8.0     XX   C03      M 2017-08-01   \n3  201805    TS145533        2      5.0  XXXXX   C03      M 2015-10-01   \n4  201808    TS161670        5      4.0    XXX   C01      F 2015-09-01   \n\n  end_date campaign_id  ...      mean median   max  min  routine_flg  \\\n0      NaN         CA1  ...  4.666667    5.0   9.0  2.0          1.0   \n1      NaN         CA1  ...  7.333333    7.5  12.0  5.0          1.0   \n2      NaN         CA2  ...  6.416667    6.5   9.0  5.0          1.0   \n3      NaN         CA1  ...  4.166667    4.0   7.0  2.0          1.0   \n4      NaN         CA1  ...  5.750000    5.5   9.0  1.0          1.0   \n\n    calc_date  membership_period  exit_date  period   now_date  \n0  2019-04-30               28.0        NaN      26 2019-02-01  \n1  2019-04-30               15.0        NaN       5 2018-06-01  \n2  2019-04-30               20.0        NaN      12 2018-08-01  \n3  2019-04-30               42.0        NaN      31 2018-05-01  \n4  2019-04-30               43.0        NaN      35 2018-08-01  \n\n[5 rows x 24 columns]",
      "text/html": "<div>\n<style scoped>\n    .dataframe tbody tr th:only-of-type {\n        vertical-align: middle;\n    }\n\n    .dataframe tbody tr th {\n        vertical-align: top;\n    }\n\n    .dataframe thead th {\n        text-align: right;\n    }\n</style>\n<table border=\"1\" class=\"dataframe\">\n  <thead>\n    <tr style=\"text-align: right;\">\n      <th></th>\n      <th>年月</th>\n      <th>customer_id</th>\n      <th>count_0</th>\n      <th>count_1</th>\n      <th>name</th>\n      <th>class</th>\n      <th>gender</th>\n      <th>start_date</th>\n      <th>end_date</th>\n      <th>campaign_id</th>\n      <th>...</th>\n      <th>mean</th>\n      <th>median</th>\n      <th>max</th>\n      <th>min</th>\n      <th>routine_flg</th>\n      <th>calc_date</th>\n      <th>membership_period</th>\n      <th>exit_date</th>\n      <th>period</th>\n      <th>now_date</th>\n    </tr>\n  </thead>\n  <tbody>\n    <tr>\n      <th>0</th>\n      <td>201902</td>\n      <td>HI886359</td>\n      <td>3</td>\n      <td>5.0</td>\n      <td>XXX</td>\n      <td>C02</td>\n      <td>F</td>\n      <td>2016-12-01</td>\n      <td>NaN</td>\n      <td>CA1</td>\n      <td>...</td>\n      <td>4.666667</td>\n      <td>5.0</td>\n      <td>9.0</td>\n      <td>2.0</td>\n      <td>1.0</td>\n      <td>2019-04-30</td>\n      <td>28.0</td>\n      <td>NaN</td>\n      <td>26</td>\n      <td>2019-02-01</td>\n    </tr>\n    <tr>\n      <th>1</th>\n      <td>201806</td>\n      <td>TS037478</td>\n      <td>8</td>\n      <td>6.0</td>\n      <td>XXXX</td>\n      <td>C02</td>\n      <td>M</td>\n      <td>2018-01-01</td>\n      <td>NaN</td>\n      <td>CA1</td>\n      <td>...</td>\n      <td>7.333333</td>\n      <td>7.5</td>\n      <td>12.0</td>\n      <td>5.0</td>\n      <td>1.0</td>\n      <td>2019-04-30</td>\n      <td>15.0</td>\n      <td>NaN</td>\n      <td>5</td>\n      <td>2018-06-01</td>\n    </tr>\n    <tr>\n      <th>2</th>\n      <td>201808</td>\n      <td>HD849426</td>\n      <td>9</td>\n      <td>8.0</td>\n      <td>XX</td>\n      <td>C03</td>\n      <td>M</td>\n      <td>2017-08-01</td>\n      <td>NaN</td>\n      <td>CA2</td>\n      <td>...</td>\n      <td>6.416667</td>\n      <td>6.5</td>\n      <td>9.0</td>\n      <td>5.0</td>\n      <td>1.0</td>\n      <td>2019-04-30</td>\n      <td>20.0</td>\n      <td>NaN</td>\n      <td>12</td>\n      <td>2018-08-01</td>\n    </tr>\n    <tr>\n      <th>3</th>\n      <td>201805</td>\n      <td>TS145533</td>\n      <td>2</td>\n      <td>5.0</td>\n      <td>XXXXX</td>\n      <td>C03</td>\n      <td>M</td>\n      <td>2015-10-01</td>\n      <td>NaN</td>\n      <td>CA1</td>\n      <td>...</td>\n      <td>4.166667</td>\n      <td>4.0</td>\n      <td>7.0</td>\n      <td>2.0</td>\n      <td>1.0</td>\n      <td>2019-04-30</td>\n      <td>42.0</td>\n      <td>NaN</td>\n      <td>31</td>\n      <td>2018-05-01</td>\n    </tr>\n    <tr>\n      <th>4</th>\n      <td>201808</td>\n      <td>TS161670</td>\n      <td>5</td>\n      <td>4.0</td>\n      <td>XXX</td>\n      <td>C01</td>\n      <td>F</td>\n      <td>2015-09-01</td>\n      <td>NaN</td>\n      <td>CA1</td>\n      <td>...</td>\n      <td>5.750000</td>\n      <td>5.5</td>\n      <td>9.0</td>\n      <td>1.0</td>\n      <td>1.0</td>\n      <td>2019-04-30</td>\n      <td>43.0</td>\n      <td>NaN</td>\n      <td>35</td>\n      <td>2018-08-01</td>\n    </tr>\n  </tbody>\n</table>\n<p>5 rows × 24 columns</p>\n</div>"
     },
     "metadata": {},
     "execution_count": 22
    }
   ],
   "source": [
    "predict_data['period'] = 0\n",
    "predict_data['now_date'] = pd.to_datetime(predict_data['年月'], format='%Y%m')\n",
    "predict_data['start_date'] = pd.to_datetime(predict_data['start_date'])\n",
    "for i in range(len(predict_data)):\n",
    "    delta = relativedelta(predict_data['now_date'][i], predict_data['start_date'][i])\n",
    "    predict_data['period'][i] = int(delta.years * 12 + delta.months)\n",
    "predict_data.head()"
   ]
  },
  {
   "cell_type": "markdown",
   "metadata": {},
   "source": [
    "## ノック４５\n",
    "\n",
    "- 欠損値を除去する"
   ]
  },
  {
   "cell_type": "code",
   "execution_count": 23,
   "metadata": {},
   "outputs": [
    {
     "output_type": "execute_result",
     "data": {
      "text/plain": "年月                      0\ncustomer_id             0\ncount_0                 0\ncount_1               278\nname                    0\nclass                   0\ngender                  0\nstart_date              0\nend_date             2842\ncampaign_id             0\nis_deleted              0\nclass_name              0\nprice                   0\ncampaign_name           0\nmean                    0\nmedian                  0\nmax                     0\nmin                     0\nroutine_flg             0\ncalc_date               0\nmembership_period       0\nexit_date            2842\nperiod                  0\nnow_date                0\ndtype: int64"
     },
     "metadata": {},
     "execution_count": 23
    }
   ],
   "source": [
    "predict_data.isna().sum()"
   ]
  },
  {
   "cell_type": "code",
   "execution_count": 24,
   "metadata": {},
   "outputs": [
    {
     "output_type": "execute_result",
     "data": {
      "text/plain": "年月                      0\ncustomer_id             0\ncount_0                 0\ncount_1                 0\nname                    0\nclass                   0\ngender                  0\nstart_date              0\nend_date             2616\ncampaign_id             0\nis_deleted              0\nclass_name              0\nprice                   0\ncampaign_name           0\nmean                    0\nmedian                  0\nmax                     0\nmin                     0\nroutine_flg             0\ncalc_date               0\nmembership_period       0\nexit_date            2616\nperiod                  0\nnow_date                0\ndtype: int64"
     },
     "metadata": {},
     "execution_count": 24
    }
   ],
   "source": [
    "predict_data = predict_data.dropna(subset=['count_1'])\n",
    "predict_data.isna().sum()"
   ]
  },
  {
   "cell_type": "markdown",
   "metadata": {},
   "source": [
    "## ノック４６\n",
    "\n",
    "- 文字列型の変数を処理できる形式に整形する"
   ]
  },
  {
   "cell_type": "code",
   "execution_count": 25,
   "metadata": {},
   "outputs": [
    {
     "output_type": "execute_result",
     "data": {
      "text/plain": "  campaign_name class_name gender  count_1  routine_flg  period  is_deleted\n0            通常      デイタイム      F      5.0          1.0      26         0.0\n1            通常      デイタイム      M      6.0          1.0       5         0.0\n2         入会費半額        ナイト      M      8.0          1.0      12         0.0\n3            通常        ナイト      M      5.0          1.0      31         0.0\n4            通常     オールタイム      F      4.0          1.0      35         0.0",
      "text/html": "<div>\n<style scoped>\n    .dataframe tbody tr th:only-of-type {\n        vertical-align: middle;\n    }\n\n    .dataframe tbody tr th {\n        vertical-align: top;\n    }\n\n    .dataframe thead th {\n        text-align: right;\n    }\n</style>\n<table border=\"1\" class=\"dataframe\">\n  <thead>\n    <tr style=\"text-align: right;\">\n      <th></th>\n      <th>campaign_name</th>\n      <th>class_name</th>\n      <th>gender</th>\n      <th>count_1</th>\n      <th>routine_flg</th>\n      <th>period</th>\n      <th>is_deleted</th>\n    </tr>\n  </thead>\n  <tbody>\n    <tr>\n      <th>0</th>\n      <td>通常</td>\n      <td>デイタイム</td>\n      <td>F</td>\n      <td>5.0</td>\n      <td>1.0</td>\n      <td>26</td>\n      <td>0.0</td>\n    </tr>\n    <tr>\n      <th>1</th>\n      <td>通常</td>\n      <td>デイタイム</td>\n      <td>M</td>\n      <td>6.0</td>\n      <td>1.0</td>\n      <td>5</td>\n      <td>0.0</td>\n    </tr>\n    <tr>\n      <th>2</th>\n      <td>入会費半額</td>\n      <td>ナイト</td>\n      <td>M</td>\n      <td>8.0</td>\n      <td>1.0</td>\n      <td>12</td>\n      <td>0.0</td>\n    </tr>\n    <tr>\n      <th>3</th>\n      <td>通常</td>\n      <td>ナイト</td>\n      <td>M</td>\n      <td>5.0</td>\n      <td>1.0</td>\n      <td>31</td>\n      <td>0.0</td>\n    </tr>\n    <tr>\n      <th>4</th>\n      <td>通常</td>\n      <td>オールタイム</td>\n      <td>F</td>\n      <td>4.0</td>\n      <td>1.0</td>\n      <td>35</td>\n      <td>0.0</td>\n    </tr>\n  </tbody>\n</table>\n</div>"
     },
     "metadata": {},
     "execution_count": 25
    }
   ],
   "source": [
    "target_col = ['campaign_name', 'class_name', 'gender', 'count_1', 'routine_flg', 'period', 'is_deleted']\n",
    "predict_data = predict_data[target_col]\n",
    "predict_data.head()"
   ]
  },
  {
   "cell_type": "code",
   "execution_count": 26,
   "metadata": {},
   "outputs": [
    {
     "output_type": "execute_result",
     "data": {
      "text/plain": "   count_1  routine_flg  period  is_deleted  campaign_name_入会費半額  \\\n0      5.0          1.0      26         0.0                    0   \n1      6.0          1.0       5         0.0                    0   \n2      8.0          1.0      12         0.0                    1   \n3      5.0          1.0      31         0.0                    0   \n4      4.0          1.0      35         0.0                    0   \n\n   campaign_name_入会費無料  campaign_name_通常  class_name_オールタイム  class_name_デイタイム  \\\n0                    0                 1                  0                 1   \n1                    0                 1                  0                 1   \n2                    0                 0                  0                 0   \n3                    0                 1                  0                 0   \n4                    0                 1                  1                 0   \n\n   class_name_ナイト  gender_F  gender_M  \n0               0         1         0  \n1               0         0         1  \n2               1         0         1  \n3               1         0         1  \n4               0         1         0  ",
      "text/html": "<div>\n<style scoped>\n    .dataframe tbody tr th:only-of-type {\n        vertical-align: middle;\n    }\n\n    .dataframe tbody tr th {\n        vertical-align: top;\n    }\n\n    .dataframe thead th {\n        text-align: right;\n    }\n</style>\n<table border=\"1\" class=\"dataframe\">\n  <thead>\n    <tr style=\"text-align: right;\">\n      <th></th>\n      <th>count_1</th>\n      <th>routine_flg</th>\n      <th>period</th>\n      <th>is_deleted</th>\n      <th>campaign_name_入会費半額</th>\n      <th>campaign_name_入会費無料</th>\n      <th>campaign_name_通常</th>\n      <th>class_name_オールタイム</th>\n      <th>class_name_デイタイム</th>\n      <th>class_name_ナイト</th>\n      <th>gender_F</th>\n      <th>gender_M</th>\n    </tr>\n  </thead>\n  <tbody>\n    <tr>\n      <th>0</th>\n      <td>5.0</td>\n      <td>1.0</td>\n      <td>26</td>\n      <td>0.0</td>\n      <td>0</td>\n      <td>0</td>\n      <td>1</td>\n      <td>0</td>\n      <td>1</td>\n      <td>0</td>\n      <td>1</td>\n      <td>0</td>\n    </tr>\n    <tr>\n      <th>1</th>\n      <td>6.0</td>\n      <td>1.0</td>\n      <td>5</td>\n      <td>0.0</td>\n      <td>0</td>\n      <td>0</td>\n      <td>1</td>\n      <td>0</td>\n      <td>1</td>\n      <td>0</td>\n      <td>0</td>\n      <td>1</td>\n    </tr>\n    <tr>\n      <th>2</th>\n      <td>8.0</td>\n      <td>1.0</td>\n      <td>12</td>\n      <td>0.0</td>\n      <td>1</td>\n      <td>0</td>\n      <td>0</td>\n      <td>0</td>\n      <td>0</td>\n      <td>1</td>\n      <td>0</td>\n      <td>1</td>\n    </tr>\n    <tr>\n      <th>3</th>\n      <td>5.0</td>\n      <td>1.0</td>\n      <td>31</td>\n      <td>0.0</td>\n      <td>0</td>\n      <td>0</td>\n      <td>1</td>\n      <td>0</td>\n      <td>0</td>\n      <td>1</td>\n      <td>0</td>\n      <td>1</td>\n    </tr>\n    <tr>\n      <th>4</th>\n      <td>4.0</td>\n      <td>1.0</td>\n      <td>35</td>\n      <td>0.0</td>\n      <td>0</td>\n      <td>0</td>\n      <td>1</td>\n      <td>1</td>\n      <td>0</td>\n      <td>0</td>\n      <td>1</td>\n      <td>0</td>\n    </tr>\n  </tbody>\n</table>\n</div>"
     },
     "metadata": {},
     "execution_count": 26
    }
   ],
   "source": [
    "predict_data = pd.get_dummies(predict_data)\n",
    "predict_data.head()"
   ]
  },
  {
   "cell_type": "code",
   "execution_count": 27,
   "metadata": {},
   "outputs": [
    {
     "output_type": "execute_result",
     "data": {
      "text/plain": "   count_1  routine_flg  period  is_deleted  campaign_name_入会費半額  \\\n0      5.0          1.0      26         0.0                    0   \n1      6.0          1.0       5         0.0                    0   \n2      8.0          1.0      12         0.0                    1   \n3      5.0          1.0      31         0.0                    0   \n4      4.0          1.0      35         0.0                    0   \n\n   campaign_name_入会費無料  class_name_オールタイム  class_name_デイタイム  gender_F  \n0                    0                  0                 1         1  \n1                    0                  0                 1         0  \n2                    0                  0                 0         0  \n3                    0                  0                 0         0  \n4                    0                  1                 0         1  ",
      "text/html": "<div>\n<style scoped>\n    .dataframe tbody tr th:only-of-type {\n        vertical-align: middle;\n    }\n\n    .dataframe tbody tr th {\n        vertical-align: top;\n    }\n\n    .dataframe thead th {\n        text-align: right;\n    }\n</style>\n<table border=\"1\" class=\"dataframe\">\n  <thead>\n    <tr style=\"text-align: right;\">\n      <th></th>\n      <th>count_1</th>\n      <th>routine_flg</th>\n      <th>period</th>\n      <th>is_deleted</th>\n      <th>campaign_name_入会費半額</th>\n      <th>campaign_name_入会費無料</th>\n      <th>class_name_オールタイム</th>\n      <th>class_name_デイタイム</th>\n      <th>gender_F</th>\n    </tr>\n  </thead>\n  <tbody>\n    <tr>\n      <th>0</th>\n      <td>5.0</td>\n      <td>1.0</td>\n      <td>26</td>\n      <td>0.0</td>\n      <td>0</td>\n      <td>0</td>\n      <td>0</td>\n      <td>1</td>\n      <td>1</td>\n    </tr>\n    <tr>\n      <th>1</th>\n      <td>6.0</td>\n      <td>1.0</td>\n      <td>5</td>\n      <td>0.0</td>\n      <td>0</td>\n      <td>0</td>\n      <td>0</td>\n      <td>1</td>\n      <td>0</td>\n    </tr>\n    <tr>\n      <th>2</th>\n      <td>8.0</td>\n      <td>1.0</td>\n      <td>12</td>\n      <td>0.0</td>\n      <td>1</td>\n      <td>0</td>\n      <td>0</td>\n      <td>0</td>\n      <td>0</td>\n    </tr>\n    <tr>\n      <th>3</th>\n      <td>5.0</td>\n      <td>1.0</td>\n      <td>31</td>\n      <td>0.0</td>\n      <td>0</td>\n      <td>0</td>\n      <td>0</td>\n      <td>0</td>\n      <td>0</td>\n    </tr>\n    <tr>\n      <th>4</th>\n      <td>4.0</td>\n      <td>1.0</td>\n      <td>35</td>\n      <td>0.0</td>\n      <td>0</td>\n      <td>0</td>\n      <td>1</td>\n      <td>0</td>\n      <td>1</td>\n    </tr>\n  </tbody>\n</table>\n</div>"
     },
     "metadata": {},
     "execution_count": 27
    }
   ],
   "source": [
    "del predict_data['campaign_name_通常']\n",
    "del predict_data['class_name_ナイト']\n",
    "del predict_data['gender_M']\n",
    "predict_data.head()"
   ]
  },
  {
   "cell_type": "markdown",
   "metadata": {},
   "source": [
    "## ノック４７\n",
    "\n",
    "- 決定木を用いて退会予測モデルを作成する"
   ]
  },
  {
   "cell_type": "code",
   "execution_count": 31,
   "metadata": {},
   "outputs": [],
   "source": [
    "from sklearn.tree import DecisionTreeClassifier\n",
    "from sklearn.model_selection import train_test_split"
   ]
  },
  {
   "cell_type": "code",
   "execution_count": 28,
   "metadata": {},
   "outputs": [],
   "source": [
    "exit  = predict_data.loc[predict_data['is_deleted'] == 1]\n",
    "conti = predict_data.loc[predict_data['is_deleted'] == 0].sample(len(exit))"
   ]
  },
  {
   "cell_type": "code",
   "execution_count": 29,
   "metadata": {},
   "outputs": [],
   "source": [
    "X = pd.concat([exit, conti], ignore_index=True)\n",
    "y = X['is_deleted']\n",
    "del X['is_deleted']"
   ]
  },
  {
   "cell_type": "code",
   "execution_count": 32,
   "metadata": {},
   "outputs": [],
   "source": [
    "X_train, X_test, y_train, y_test = train_test_split(X, y)"
   ]
  },
  {
   "cell_type": "code",
   "execution_count": 33,
   "metadata": {
    "tags": []
   },
   "outputs": [
    {
     "output_type": "stream",
     "name": "stdout",
     "text": "[0. 1. 1. 1. 1. 0. 1. 1. 1. 0. 0. 0. 0. 1. 1. 1. 1. 0. 0. 1. 0. 0. 1. 0.\n 1. 0. 1. 1. 0. 1. 1. 1. 0. 1. 0. 1. 1. 1. 1. 1. 0. 0. 0. 0. 1. 0. 1. 0.\n 1. 1. 1. 0. 1. 0. 1. 0. 0. 1. 1. 0. 1. 1. 1. 0. 1. 1. 0. 0. 1. 0. 0. 0.\n 1. 1. 0. 0. 1. 0. 0. 1. 1. 0. 0. 0. 1. 1. 1. 0. 1. 0. 1. 0. 0. 0. 0. 0.\n 0. 0. 0. 0. 0. 1. 0. 0. 0. 1. 1. 1. 0. 0. 1. 1. 0. 0. 1. 1. 0. 0. 0. 0.\n 1. 1. 0. 0. 0. 0. 1. 1. 1. 1. 1. 0. 1. 0. 1. 1. 0. 1. 1. 1. 1. 1. 0. 0.\n 0. 1. 1. 0. 1. 0. 0. 1. 0. 1. 1. 0. 0. 1. 1. 0. 1. 1. 0. 1. 1. 0. 0. 0.\n 0. 0. 0. 1. 1. 0. 0. 1. 0. 1. 1. 0. 0. 0. 1. 1. 0. 1. 1. 0. 1. 0. 0. 1.\n 1. 0. 0. 1. 0. 1. 0. 1. 0. 1. 0. 0. 0. 0. 0. 1. 1. 1. 0. 1. 1. 1. 0. 0.\n 0. 0. 1. 1. 1. 0. 1. 0. 1. 0. 1. 1. 0. 0. 1. 0. 1. 0. 0. 1. 0. 1. 0. 1.\n 1. 0. 1. 1. 1. 1. 0. 0. 0. 0. 1. 0. 0. 0. 1. 0. 1. 0. 1. 0. 0. 0. 1. 1.\n 1. 0. 0. 0. 0. 0. 1. 0. 0. 1. 1. 0. 0. 0. 1. 0. 0. 0. 1. 0. 0. 0. 0. 1.\n 0. 1. 0. 0. 0. 1. 1. 1. 1. 0. 1. 1. 0. 0. 0. 0. 0. 0. 0. 0. 0. 1. 1. 0.\n 1. 1. 1. 1. 0. 0. 1. 0. 0. 0. 0. 0. 1. 1. 1. 0. 1. 0. 0. 0. 1. 1. 0. 1.\n 0. 1. 1. 0. 1. 0. 0. 0. 1. 0. 1. 1. 0. 1. 1. 0. 1. 0. 1. 0. 1. 1. 1. 1.\n 1. 0. 1. 1. 0. 0. 1. 0. 0. 1. 0. 1. 0. 0. 0. 0. 1. 1. 1. 1. 0. 0. 0. 1.\n 1. 0. 0. 0. 1. 1. 1. 0. 0. 1. 1. 0. 1. 1. 0. 1. 1. 1. 1. 0. 0. 1. 0. 0.\n 1. 0. 0. 0. 0. 0. 1. 1. 0. 0. 0. 1. 1. 0. 0. 0. 0. 1. 1. 0. 0. 0. 0. 0.\n 0. 0. 1. 1. 1. 0. 1. 0. 1. 1. 1. 1. 1. 0. 1. 1. 0. 1. 1. 1. 1. 0. 0. 1.\n 1. 0. 0. 0. 0. 1. 0. 1. 1. 1. 0. 1. 1. 0. 0. 0. 0. 1. 1. 1. 1. 0. 1. 1.\n 1. 0. 0. 1. 0. 0. 1. 0. 1. 1. 1. 0. 0. 0. 0. 0. 0. 0. 1. 0. 0. 0. 1. 1.\n 0. 0. 1. 0. 0. 1. 1. 1. 0. 0. 1. 0. 0. 0. 0. 1. 0. 0. 0. 0. 1. 1.]\n"
    }
   ],
   "source": [
    "model = DecisionTreeClassifier(random_state=0)\n",
    "model.fit(X_train, y_train)\n",
    "y_test_pred = model.predict(X_test)\n",
    "print(y_test_pred)"
   ]
  },
  {
   "cell_type": "code",
   "execution_count": 34,
   "metadata": {},
   "outputs": [
    {
     "output_type": "execute_result",
     "data": {
      "text/plain": "      y_test  y_pred\n1350     0.0     0.0\n371      1.0     1.0\n940      1.0     1.0\n297      1.0     1.0\n37       1.0     1.0",
      "text/html": "<div>\n<style scoped>\n    .dataframe tbody tr th:only-of-type {\n        vertical-align: middle;\n    }\n\n    .dataframe tbody tr th {\n        vertical-align: top;\n    }\n\n    .dataframe thead th {\n        text-align: right;\n    }\n</style>\n<table border=\"1\" class=\"dataframe\">\n  <thead>\n    <tr style=\"text-align: right;\">\n      <th></th>\n      <th>y_test</th>\n      <th>y_pred</th>\n    </tr>\n  </thead>\n  <tbody>\n    <tr>\n      <th>1350</th>\n      <td>0.0</td>\n      <td>0.0</td>\n    </tr>\n    <tr>\n      <th>371</th>\n      <td>1.0</td>\n      <td>1.0</td>\n    </tr>\n    <tr>\n      <th>940</th>\n      <td>1.0</td>\n      <td>1.0</td>\n    </tr>\n    <tr>\n      <th>297</th>\n      <td>1.0</td>\n      <td>1.0</td>\n    </tr>\n    <tr>\n      <th>37</th>\n      <td>1.0</td>\n      <td>1.0</td>\n    </tr>\n  </tbody>\n</table>\n</div>"
     },
     "metadata": {},
     "execution_count": 34
    }
   ],
   "source": [
    "results_test = pd.DataFrame({'y_test': y_test, 'y_pred': y_test_pred})\n",
    "results_test.head()"
   ]
  },
  {
   "cell_type": "markdown",
   "metadata": {},
   "source": [
    "## ノック４８\n",
    "\n",
    "- 予測モデルを評価する\n",
    "- 予測モデルをチューニングする"
   ]
  },
  {
   "cell_type": "code",
   "execution_count": 35,
   "metadata": {
    "tags": []
   },
   "outputs": [
    {
     "output_type": "stream",
     "name": "stdout",
     "text": "0.9011406844106464\n"
    }
   ],
   "source": [
    "correct = len(results_test.loc[results_test['y_test'] == results_test['y_pred']])\n",
    "data_count = len(results_test)\n",
    "score_test = correct / data_count\n",
    "print(score_test)"
   ]
  },
  {
   "cell_type": "code",
   "execution_count": 36,
   "metadata": {
    "tags": []
   },
   "outputs": [
    {
     "output_type": "stream",
     "name": "stdout",
     "text": "0.982256020278834\n0.9011406844106464\n"
    }
   ],
   "source": [
    "print(model.score(X_train, y_train))\n",
    "print(model.score(X_test, y_test))"
   ]
  },
  {
   "cell_type": "code",
   "execution_count": 37,
   "metadata": {
    "tags": []
   },
   "outputs": [
    {
     "output_type": "stream",
     "name": "stdout",
     "text": "0.9372623574144486\n0.908745247148289\n"
    }
   ],
   "source": [
    "X = pd.concat([exit, conti], ignore_index=True)\n",
    "y = X['is_deleted']\n",
    "del X['is_deleted']\n",
    "\n",
    "X_train, X_test, y_train, y_test = train_test_split(X, y)\n",
    "\n",
    "model = DecisionTreeClassifier(random_state=0, max_depth=5)\n",
    "model.fit(X_train, y_train)\n",
    "\n",
    "print(model.score(X_train, y_train))\n",
    "print(model.score(X_test, y_test))"
   ]
  },
  {
   "cell_type": "markdown",
   "metadata": {},
   "source": [
    "## ノック４９\n",
    "\n",
    "- モデルに寄与している変数を確認する"
   ]
  },
  {
   "cell_type": "code",
   "execution_count": 38,
   "metadata": {},
   "outputs": [
    {
     "output_type": "execute_result",
     "data": {
      "text/plain": "         feature_names  coefficient\n0              count_1     0.360508\n1          routine_flg     0.140073\n2               period     0.496881\n3  campaign_name_入会費半額     0.000000\n4  campaign_name_入会費無料     0.002341\n5    class_name_オールタイム     0.000198\n6     class_name_デイタイム     0.000000\n7             gender_F     0.000000",
      "text/html": "<div>\n<style scoped>\n    .dataframe tbody tr th:only-of-type {\n        vertical-align: middle;\n    }\n\n    .dataframe tbody tr th {\n        vertical-align: top;\n    }\n\n    .dataframe thead th {\n        text-align: right;\n    }\n</style>\n<table border=\"1\" class=\"dataframe\">\n  <thead>\n    <tr style=\"text-align: right;\">\n      <th></th>\n      <th>feature_names</th>\n      <th>coefficient</th>\n    </tr>\n  </thead>\n  <tbody>\n    <tr>\n      <th>0</th>\n      <td>count_1</td>\n      <td>0.360508</td>\n    </tr>\n    <tr>\n      <th>1</th>\n      <td>routine_flg</td>\n      <td>0.140073</td>\n    </tr>\n    <tr>\n      <th>2</th>\n      <td>period</td>\n      <td>0.496881</td>\n    </tr>\n    <tr>\n      <th>3</th>\n      <td>campaign_name_入会費半額</td>\n      <td>0.000000</td>\n    </tr>\n    <tr>\n      <th>4</th>\n      <td>campaign_name_入会費無料</td>\n      <td>0.002341</td>\n    </tr>\n    <tr>\n      <th>5</th>\n      <td>class_name_オールタイム</td>\n      <td>0.000198</td>\n    </tr>\n    <tr>\n      <th>6</th>\n      <td>class_name_デイタイム</td>\n      <td>0.000000</td>\n    </tr>\n    <tr>\n      <th>7</th>\n      <td>gender_F</td>\n      <td>0.000000</td>\n    </tr>\n  </tbody>\n</table>\n</div>"
     },
     "metadata": {},
     "execution_count": 38
    }
   ],
   "source": [
    "importance = pd.DataFrame({\n",
    "    'feature_names': X.columns,\n",
    "    'coefficient': model.feature_importances_,\n",
    "})\n",
    "importance"
   ]
  },
  {
   "cell_type": "markdown",
   "metadata": {},
   "source": [
    "## ノック５０\n",
    "\n",
    "- 顧客の退会を予測してみる"
   ]
  },
  {
   "cell_type": "code",
   "execution_count": 39,
   "metadata": {},
   "outputs": [],
   "source": [
    "count_1       = 3\n",
    "routine_flg   = 1\n",
    "period        = 10\n",
    "campaign_name = '入会費無料'\n",
    "class_name    = 'オールタイム'\n",
    "gender        = 'M'"
   ]
  },
  {
   "cell_type": "code",
   "execution_count": 40,
   "metadata": {},
   "outputs": [],
   "source": [
    "if campaign_name == '入会費半額':\n",
    "    campaign_name_list = [1, 0]\n",
    "elif campaign_name == '入会費無料':\n",
    "    campaign_name_list = [0, 1]\n",
    "elif campaign_name == '通常':\n",
    "    campaign_name_list = [0, 0]\n",
    "\n",
    "if class_name == 'オールタイム':\n",
    "    class_name_list = [1, 0]\n",
    "elif class_name == 'デイタイム':\n",
    "    class_name_list = [0, 1]\n",
    "elif class_name == 'ナイト':\n",
    "    class_name_list = [0, 0]\n",
    "\n",
    "if gender == 'F':\n",
    "    gender_list = [1]\n",
    "elif gender == 'M':\n",
    "    gender_list = [0]\n",
    "\n",
    "input_data = [count_1, routine_flg, period]\n",
    "input_data.extend(campaign_name_list)\n",
    "input_data.extend(class_name_list)\n",
    "input_data.extend(gender_list)"
   ]
  },
  {
   "cell_type": "code",
   "execution_count": 41,
   "metadata": {
    "tags": []
   },
   "outputs": [
    {
     "output_type": "stream",
     "name": "stdout",
     "text": "[1.]\n[[0.00263158 0.99736842]]\n"
    }
   ],
   "source": [
    "print(model.predict([input_data]))\n",
    "print(model.predict_proba([input_data]))"
   ]
  },
  {
   "cell_type": "code",
   "execution_count": null,
   "metadata": {},
   "outputs": [],
   "source": []
  }
 ]
}